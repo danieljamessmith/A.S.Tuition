{
 "cells": [
  {
   "cell_type": "markdown",
   "metadata": {},
   "source": [
    "The **Laplace Transform** of a function $f(t)$ is the function of $s$ defined by the improper integral\n",
    "\n",
    "$$ \\mathcal{L}\\{f(t)\\} := \\int_0^\\infty f(t)\\,e^{-st}\\,\\text{d}t $$\n",
    "\n",
    "To emphasise, the left hand side is a function of the variable $s$. To make this more explicit the Laplace Transform is often written $F(s)$\n",
    "\n",
    "$$ F(s) := \\int_0^\\infty f(t)\\,e^{-st}\\,\\text{d}t $$"
   ]
  },
  {
   "cell_type": "markdown",
   "metadata": {},
   "source": [
    "# Example: $f(t) = \\sin(at)$\n",
    "\n",
    "## Method 1: Using `sympy.integrals.laplace_transform`\n",
    "\n",
    "`sympy.integrals.laplace_transform` computes the Laplace Transform of a given time-domain function $f(t)$. It takes three primary arguments:\n",
    "\n",
    "1. **Function**: The expression $f(t)$ for which you want to find the Laplace Transform.\n",
    "2. **Variable**: The time variable in the expression, typically $t$.\n",
    "3. **Transform Variable**: The Laplace domain variable, often $s$.\n",
    "\n",
    "The function returns a tuple with three elements:\n",
    "1. **Transformed Function**: The Laplace Transform $F(s)$ of $f(t)$, as a symbolic expression in terms of $s$.\n",
    "2. **Convergence Condition**: An expression specifying the condition on parameters for which the transform converges, often involving the imaginary part of complex constants.\n",
    "3. **Validity**: A boolean value that is `True` if the transform result is valid under the given convergence conditions, and `False` if additional constraints are required.\n"
   ]
  },
  {
   "cell_type": "code",
   "execution_count": 2,
   "metadata": {},
   "outputs": [
    {
     "data": {
      "text/plain": [
       "(a/(a**2 + s**2), 0, True)"
      ]
     },
     "execution_count": 2,
     "metadata": {},
     "output_type": "execute_result"
    }
   ],
   "source": [
    "from sympy.integrals import laplace_transform\n",
    "from sympy.functions import sin\n",
    "from sympy import symbols\n",
    "\n",
    "t, s, a = symbols('t s a', positive=True)\n",
    "\n",
    "f = sin(a*t)\n",
    "\n",
    "F = laplace_transform(f, t, s)\n",
    "F"
   ]
  },
  {
   "cell_type": "code",
   "execution_count": 3,
   "metadata": {},
   "outputs": [
    {
     "data": {
      "text/latex": [
       "$\\displaystyle \\frac{a}{a^{2} + s^{2}}$"
      ],
      "text/plain": [
       "a/(a**2 + s**2)"
      ]
     },
     "execution_count": 3,
     "metadata": {},
     "output_type": "execute_result"
    }
   ],
   "source": [
    "# Can extract the function F(s) alone by specifying `noconds=True`:\n",
    "\n",
    "F = laplace_transform(f, t, s, noconds=True)\n",
    "F"
   ]
  },
  {
   "cell_type": "code",
   "execution_count": 4,
   "metadata": {},
   "outputs": [
    {
     "data": {
      "text/latex": [
       "$\\displaystyle \\frac{a}{a^{2} + s^{2}}$"
      ],
      "text/plain": [
       "a/(a**2 + s**2)"
      ]
     },
     "execution_count": 4,
     "metadata": {},
     "output_type": "execute_result"
    }
   ],
   "source": [
    "# Or just by indexing into the tuple:\n",
    "\n",
    "F = laplace_transform(f, t, s)[0]\n",
    "F"
   ]
  },
  {
   "cell_type": "markdown",
   "metadata": {},
   "source": [
    "`F` is now just a regular SymPy expression, and we can manipulate it as such:"
   ]
  },
  {
   "cell_type": "code",
   "execution_count": 5,
   "metadata": {},
   "outputs": [
    {
     "data": {
      "text/latex": [
       "$\\displaystyle \\frac{a}{a^{2} + 4}$"
      ],
      "text/plain": [
       "a/(a**2 + 4)"
      ]
     },
     "execution_count": 5,
     "metadata": {},
     "output_type": "execute_result"
    }
   ],
   "source": [
    "# Subbing in s=2 in F(s):\n",
    "\n",
    "F.subs(s, 2)"
   ]
  },
  {
   "cell_type": "code",
   "execution_count": 6,
   "metadata": {},
   "outputs": [
    {
     "data": {
      "text/latex": [
       "$\\displaystyle - \\frac{2 a s}{\\left(a^{2} + s^{2}\\right)^{2}}$"
      ],
      "text/plain": [
       "-2*a*s/(a**2 + s**2)**2"
      ]
     },
     "execution_count": 6,
     "metadata": {},
     "output_type": "execute_result"
    }
   ],
   "source": [
    "# Differentiating F(s) with respect to s:\n",
    "\n",
    "F.diff(s)"
   ]
  },
  {
   "cell_type": "markdown",
   "metadata": {},
   "source": [
    "## Method 2: Calculating the Laplace Transform directly\n",
    "\n",
    "**Step 1:** Calculating the indefinite integral \n",
    "$$ \\int f(t)\\, e^{-st} \\,\\text{d}t $$"
   ]
  },
  {
   "cell_type": "code",
   "execution_count": 8,
   "metadata": {},
   "outputs": [
    {
     "data": {
      "text/latex": [
       "$\\displaystyle - \\frac{a \\cos{\\left(a t \\right)}}{a^{2} e^{s t} + s^{2} e^{s t}} - \\frac{s \\sin{\\left(a t \\right)}}{a^{2} e^{s t} + s^{2} e^{s t}}$"
      ],
      "text/plain": [
       "-a*cos(a*t)/(a**2*exp(s*t) + s**2*exp(s*t)) - s*sin(a*t)/(a**2*exp(s*t) + s**2*exp(s*t))"
      ]
     },
     "execution_count": 8,
     "metadata": {},
     "output_type": "execute_result"
    }
   ],
   "source": [
    "from sympy import exp, integrate\n",
    "\n",
    "t, s, a = symbols('t s a', real=True, positive=True)\n",
    "\n",
    "f = sin(a*t)\n",
    "\n",
    "indefinite_integral = integrate(f*exp(-s*t), t)\n",
    "indefinite_integral"
   ]
  },
  {
   "cell_type": "markdown",
   "metadata": {},
   "source": [
    "**Step 2:** Fix $K>0$ and calculate the definite integral \n",
    "\n",
    "$$ \\int_0^K f(t)\\, e^{-st} \\,\\text{d}t $$"
   ]
  },
  {
   "cell_type": "code",
   "execution_count": 9,
   "metadata": {},
   "outputs": [
    {
     "data": {
      "text/latex": [
       "$\\displaystyle - \\frac{a \\cos{\\left(K a \\right)}}{a^{2} e^{K s} + s^{2} e^{K s}} + \\frac{a}{a^{2} + s^{2}} - \\frac{s \\sin{\\left(K a \\right)}}{a^{2} e^{K s} + s^{2} e^{K s}}$"
      ],
      "text/plain": [
       "-a*cos(K*a)/(a**2*exp(K*s) + s**2*exp(K*s)) + a/(a**2 + s**2) - s*sin(K*a)/(a**2*exp(K*s) + s**2*exp(K*s))"
      ]
     },
     "execution_count": 9,
     "metadata": {},
     "output_type": "execute_result"
    }
   ],
   "source": [
    "# We could evaluate the indefinite integral between t=K and t=0 as we do on paper:\n",
    "\n",
    "K = symbols('K', positive=True)\n",
    "\n",
    "definite_integral = indefinite_integral.subs(t, K) - indefinite_integral.subs(t, 0)\n",
    "definite_integral"
   ]
  },
  {
   "cell_type": "code",
   "execution_count": 10,
   "metadata": {},
   "outputs": [
    {
     "data": {
      "text/latex": [
       "$\\displaystyle - \\frac{a \\cos{\\left(K a \\right)}}{a^{2} e^{K s} + s^{2} e^{K s}} + \\frac{a}{a^{2} + s^{2}} - \\frac{s \\sin{\\left(K a \\right)}}{a^{2} e^{K s} + s^{2} e^{K s}}$"
      ],
      "text/plain": [
       "-a*cos(K*a)/(a**2*exp(K*s) + s**2*exp(K*s)) + a/(a**2 + s**2) - s*sin(K*a)/(a**2*exp(K*s) + s**2*exp(K*s))"
      ]
     },
     "execution_count": 10,
     "metadata": {},
     "output_type": "execute_result"
    }
   ],
   "source": [
    "# Or we could calculate the definite integral directly usint `sympy.integrate` with limits:\n",
    "\n",
    "t, s, a, K = symbols('t s a K', real=True, positive=True)\n",
    "\n",
    "f = sin(a*t)\n",
    "\n",
    "definite_integral = integrate(f*exp(-s*t), (t, 0, K))\n",
    "definite_integral"
   ]
  },
  {
   "cell_type": "markdown",
   "metadata": {},
   "source": [
    "**Step 3:** Taking the limit $K \\rightarrow \\infty$ in accordance with the definition of the improper integral:\n",
    "\n",
    "$$ \\int_0^\\infty f(t)\\, e^{-st} \\,\\text{d}t := \\lim_{K\\rightarrow\\infty} \\int_0^K f(t)\\, e^{-st} \\,\\text{d}t $$"
   ]
  },
  {
   "cell_type": "code",
   "execution_count": 11,
   "metadata": {},
   "outputs": [
    {
     "data": {
      "text/latex": [
       "$\\displaystyle \\frac{a}{a^{2} + s^{2}}$"
      ],
      "text/plain": [
       "a/(a**2 + s**2)"
      ]
     },
     "execution_count": 11,
     "metadata": {},
     "output_type": "execute_result"
    }
   ],
   "source": [
    "from sympy import limit, oo\n",
    "\n",
    "laplace_transform_manual = limit(definite_integral, K, oo)\n",
    "laplace_transform_manual"
   ]
  },
  {
   "cell_type": "code",
   "execution_count": 15,
   "metadata": {},
   "outputs": [],
   "source": [
    "import numpy as np\n",
    "\n",
    "def my_func(s, a, K):\n",
    "    return -np.divide(a*np.cos(K*a), (a**2) * np.exp(K*s)+ s**2 * np.exp(K*s)) - np.divide(s*np.sin(K*a), (a**2) * np.exp(K*s)+ s**2 * np.exp(K*s))"
   ]
  },
  {
   "cell_type": "code",
   "execution_count": 29,
   "metadata": {},
   "outputs": [
    {
     "name": "stdout",
     "output_type": "stream",
     "text": [
      "68617.3741\n",
      "96512410565.3842\n",
      "2.61833505296967e+16\n",
      "-1.0555545114849004e+23\n",
      "-1.7504135874305805e+29\n",
      "-7.481288415543583e+34\n",
      "1.5593248593332069e+41\n",
      "3.1083912374517302e+47\n",
      "1.7842933334061215e+53\n"
     ]
    }
   ],
   "source": [
    "a = 1\n",
    "s = -14\n",
    "for K in range(1,10):\n",
    "    print(np.round(my_func(s,a,K), 4))"
   ]
  },
  {
   "cell_type": "markdown",
   "metadata": {},
   "source": [
    "There we have it, we've shown\n",
    "\n",
    "$$ \\mathcal{L}\\{ \\sin(at) \\} = \\frac{a}{a^2 + s^2} $$\n",
    "\n",
    "twice, firstly by using `sympy.integrals.laplace_transform` and secondly by using `sympy.integrate` followed by `sympy.limit`"
   ]
  },
  {
   "cell_type": "markdown",
   "metadata": {},
   "source": [
    "# Exercises:\n",
    "\n",
    "Do the same as the above, but for the following functions:\n",
    "\n",
    "1) $f(t) = \\cos(at)$\n",
    "\n",
    "2) $f(t) = \\sinh(at)$\n",
    "\n",
    "3) $f(t) = te^{at}$\n",
    "\n",
    "**Extension:**\n",
    "\n",
    "In a previous week I derived the standard formula for the Laplace Transform of a first derivative:\n",
    "\n",
    "$$ \\mathcal{L}\\{f'(t)\\} = -f(0) + sF(s) $$\n",
    "\n",
    "Verify, using SymPy or by hand, that this formula holds for each of the functions $f(t)$ we've considered in this notebook. \n",
    "\n",
    "*For example* \n",
    "\n",
    "If $f(t) = \\sin(at) $ then we can calculate $f'(t) = a\\cos(at)$ and Laplace Transform this, or we could use the formula above. Do both and show that you get the same answer. \n"
   ]
  },
  {
   "cell_type": "code",
   "execution_count": 43,
   "metadata": {},
   "outputs": [
    {
     "data": {
      "text/latex": [
       "$\\displaystyle \\frac{s}{a^{2} + s^{2}}$"
      ],
      "text/plain": [
       "s/(a**2 + s**2)"
      ]
     },
     "execution_count": 43,
     "metadata": {},
     "output_type": "execute_result"
    }
   ],
   "source": [
    "# 1 - f(t) = cos(at)\n",
    "\n",
    "from sympy.functions import cos\n",
    "\n",
    "t, s, a = symbols('t s a', positive=True)\n",
    "\n",
    "f = cos(a*t)\n",
    "\n",
    "F_Q1 = laplace_transform(f, t, s)\n",
    "\n",
    "F_Q1[0]"
   ]
  },
  {
   "cell_type": "code",
   "execution_count": 45,
   "metadata": {},
   "outputs": [
    {
     "data": {
      "text/latex": [
       "$\\displaystyle \\frac{a \\sin{\\left(K a \\right)}}{a^{2} e^{K s} + s^{2} e^{K s}} - \\frac{s \\cos{\\left(K a \\right)}}{a^{2} e^{K s} + s^{2} e^{K s}} + \\frac{s}{a^{2} + s^{2}}$"
      ],
      "text/plain": [
       "a*sin(K*a)/(a**2*exp(K*s) + s**2*exp(K*s)) - s*cos(K*a)/(a**2*exp(K*s) + s**2*exp(K*s)) + s/(a**2 + s**2)"
      ]
     },
     "execution_count": 45,
     "metadata": {},
     "output_type": "execute_result"
    }
   ],
   "source": [
    "indef_Q1 = integrate(f*exp(-s*t), t)\n",
    "\n",
    "K = symbols('K', positive=True)\n",
    "\n",
    "def_Q1 = integrate(f*exp(-s*t), (t, 0, K))\n",
    "def_Q1\n"
   ]
  },
  {
   "cell_type": "code",
   "execution_count": 48,
   "metadata": {},
   "outputs": [
    {
     "data": {
      "text/latex": [
       "$\\displaystyle \\frac{s}{a^{2} + s^{2}}$"
      ],
      "text/plain": [
       "s/(a**2 + s**2)"
      ]
     },
     "execution_count": 48,
     "metadata": {},
     "output_type": "execute_result"
    }
   ],
   "source": [
    "laplace_manual_Q1 = limit(def_Q1, K, oo)\n",
    "laplace_manual_Q1"
   ]
  },
  {
   "cell_type": "markdown",
   "metadata": {},
   "source": [
    "$$ \\sinh(x) := \\frac{e^x - e^{-x}}{2} $$\n",
    "\n",
    "Normally pronounced \"shine\" or \"sinch\"\n",
    "\n",
    "$$ \\sin(x) := \\frac{e^{ix} - e^{-ix}}{2i} $$\n",
    "\n",
    "where $$ i = \\sqrt{-1} $$"
   ]
  },
  {
   "cell_type": "code",
   "execution_count": null,
   "metadata": {},
   "outputs": [
    {
     "data": {
      "text/latex": [
       "$\\displaystyle \\frac{a}{- a^{2} + s^{2}}$"
      ],
      "text/plain": [
       "a/(-a**2 + s**2)"
      ]
     },
     "execution_count": 52,
     "metadata": {},
     "output_type": "execute_result"
    }
   ],
   "source": [
    "# 2 - f(t) = sinh(at)\n",
    "\n",
    "from sympy.functions import sinh\n",
    "\n",
    "t, s, a = symbols('t s a', positive=True)\n",
    "\n",
    "f = sinh(a*t)\n",
    "\n",
    "F_Q2 = laplace_transform(f, t, s)\n",
    "F_Q2[0]"
   ]
  },
  {
   "cell_type": "code",
   "execution_count": 57,
   "metadata": {},
   "outputs": [
    {
     "data": {
      "text/plain": [
       "(a/(-a**2 + s**2), a, True)"
      ]
     },
     "execution_count": 57,
     "metadata": {},
     "output_type": "execute_result"
    }
   ],
   "source": [
    "laplace_transform(f, t, s)"
   ]
  },
  {
   "cell_type": "code",
   "execution_count": null,
   "metadata": {},
   "outputs": [
    {
     "data": {
      "text/latex": [
       "$\\displaystyle \\begin{cases} - \\frac{a \\cosh{\\left(K a \\right)}}{- a^{2} e^{K s} + s^{2} e^{K s}} + \\frac{a}{- a^{2} + s^{2}} - \\frac{s \\sinh{\\left(K a \\right)}}{- a^{2} e^{K s} + s^{2} e^{K s}} & \\text{for}\\: a \\neq s \\\\\\frac{K e^{- K s} \\sinh{\\left(K s \\right)}}{2} + \\frac{K e^{- K s} \\cosh{\\left(K s \\right)}}{2} - \\frac{1}{2 s} + \\frac{e^{- K s} \\cosh{\\left(K s \\right)}}{2 s} & \\text{otherwise} \\end{cases}$"
      ],
      "text/plain": [
       "Piecewise((-a*cosh(K*a)/(-a**2*exp(K*s) + s**2*exp(K*s)) + a/(-a**2 + s**2) - s*sinh(K*a)/(-a**2*exp(K*s) + s**2*exp(K*s)), Ne(a, s)), (K*exp(-K*s)*sinh(K*s)/2 + K*exp(-K*s)*cosh(K*s)/2 - 1/(2*s) + exp(-K*s)*cosh(K*s)/(2*s), True))"
      ]
     },
     "execution_count": 59,
     "metadata": {},
     "output_type": "execute_result"
    }
   ],
   "source": [
    "#2 - manual\n",
    "indef_Q2 = integrate(f * exp(-s*t), t)\n",
    "\n",
    "K = symbols('K', positive=True)\n",
    "\n",
    "def_Q2 = integrate(f * exp(-s*t), (t, 0, K))\n",
    "def_Q2"
   ]
  },
  {
   "cell_type": "code",
   "execution_count": 61,
   "metadata": {},
   "outputs": [
    {
     "data": {
      "text/latex": [
       "$\\displaystyle \\frac{a \\cosh{\\left(K a \\right)}}{a^{2} e^{K s} - s^{2} e^{K s}} - \\frac{a}{a^{2} - s^{2}} + \\frac{s \\sinh{\\left(K a \\right)}}{a^{2} e^{K s} - s^{2} e^{K s}}$"
      ],
      "text/plain": [
       "a*cosh(K*a)/(a**2*exp(K*s) - s**2*exp(K*s)) - a/(a**2 - s**2) + s*sinh(K*a)/(a**2*exp(K*s) - s**2*exp(K*s))"
      ]
     },
     "execution_count": 61,
     "metadata": {},
     "output_type": "execute_result"
    }
   ],
   "source": [
    "from sympy import Q, refine\n",
    "\n",
    "def_Q2 = refine(def_Q2, Q.gt(s, a))\n",
    "def_Q2"
   ]
  },
  {
   "cell_type": "code",
   "execution_count": 66,
   "metadata": {},
   "outputs": [
    {
     "data": {
      "text/latex": [
       "$\\displaystyle \\begin{cases} - \\frac{\\infty}{\\operatorname{sign}{\\left(- 2 a + 2 s \\right)}} & \\text{for}\\: a < s \\end{cases}$"
      ],
      "text/plain": [
       "Piecewise((-oo/sign(-2*a + 2*s), a < s))"
      ]
     },
     "execution_count": 66,
     "metadata": {},
     "output_type": "execute_result"
    }
   ],
   "source": [
    "from sympy import Piecewise\n",
    "\n",
    "laplace_manual_Q2 = Piecewise(\n",
    "    (limit(def_Q2, K, oo), s > a)\n",
    ")\n",
    "\n",
    "laplace_manual_Q2\n"
   ]
  },
  {
   "cell_type": "code",
   "execution_count": 73,
   "metadata": {},
   "outputs": [
    {
     "data": {
      "text/latex": [
       "$\\displaystyle \\frac{1}{\\left(- a + s\\right)^{2}}$"
      ],
      "text/plain": [
       "(-a + s)**(-2)"
      ]
     },
     "execution_count": 73,
     "metadata": {},
     "output_type": "execute_result"
    }
   ],
   "source": [
    "# 3 - f(t) = te^at\n",
    "\n",
    "t, s, a = symbols('t s a', positive=True)\n",
    "\n",
    "f = t*exp(a*t)\n",
    "\n",
    "F_Q3 = laplace_transform(f, t, s)\n",
    "F_Q3[0]\n"
   ]
  },
  {
   "cell_type": "code",
   "execution_count": 77,
   "metadata": {},
   "outputs": [
    {
     "data": {
      "text/plain": [
       "((-a + s)**(-2), a, True)"
      ]
     },
     "execution_count": 77,
     "metadata": {},
     "output_type": "execute_result"
    }
   ],
   "source": [
    "F_Q3"
   ]
  },
  {
   "cell_type": "code",
   "execution_count": 75,
   "metadata": {},
   "outputs": [],
   "source": [
    "indef_Q3 = integrate(f*exp(-s*t), t)\n",
    "\n",
    "K = symbols('K', positive=True)\n",
    "\n",
    "def_Q3 = integrate(f*exp(-s*t), (t, 0, K))"
   ]
  },
  {
   "cell_type": "code",
   "execution_count": 76,
   "metadata": {},
   "outputs": [
    {
     "data": {
      "text/latex": [
       "$\\displaystyle \\begin{cases} \\frac{K a e^{K a}}{a^{2} e^{K s} - 2 a s e^{K s} + s^{2} e^{K s}} - \\frac{K s e^{K a}}{a^{2} e^{K s} - 2 a s e^{K s} + s^{2} e^{K s}} - \\frac{e^{K a}}{a^{2} e^{K s} - 2 a s e^{K s} + s^{2} e^{K s}} + \\frac{1}{a^{2} - 2 a s + s^{2}} & \\text{for}\\: a \\neq s \\\\\\frac{K^{2}}{2} & \\text{otherwise} \\end{cases}$"
      ],
      "text/plain": [
       "Piecewise((K*a*exp(K*a)/(a**2*exp(K*s) - 2*a*s*exp(K*s) + s**2*exp(K*s)) - K*s*exp(K*a)/(a**2*exp(K*s) - 2*a*s*exp(K*s) + s**2*exp(K*s)) - exp(K*a)/(a**2*exp(K*s) - 2*a*s*exp(K*s) + s**2*exp(K*s)) + 1/(a**2 - 2*a*s + s**2), Ne(a, s)), (K**2/2, True))"
      ]
     },
     "execution_count": 76,
     "metadata": {},
     "output_type": "execute_result"
    }
   ],
   "source": [
    "def_Q3"
   ]
  },
  {
   "cell_type": "code",
   "execution_count": null,
   "metadata": {},
   "outputs": [],
   "source": []
  },
  {
   "cell_type": "markdown",
   "metadata": {},
   "source": [
    "# Exercises:\n",
    "\n",
    "Do the same as the above, but for the following functions:\n",
    "\n",
    "1) $f(t) = \\cos(at)$\n",
    "\n",
    "2) $f(t) = \\sinh(at)$\n",
    "\n",
    "3) $f(t) = te^{at}$\n",
    "\n",
    "**Extension:**\n",
    "\n",
    "In a previous week I derived the standard formula for the Laplace Transform of a first derivative:\n",
    "\n",
    "$$ \\mathcal{L}\\{f'(t)\\} = -f(0) + sF(s) $$\n",
    "\n",
    "Verify, using SymPy or by hand, that this formula holds for each of the functions $f(t)$ we've considered in this notebook. \n",
    "\n",
    "*For example* \n",
    "\n",
    "If $f(t) = \\sin(at) $ then we can calculate $f'(t) = a\\cos(at)$ and Laplace Transform this, or we could use the formula above. Do both and show that you get the same answer. \n"
   ]
  },
  {
   "cell_type": "code",
   "execution_count": 91,
   "metadata": {},
   "outputs": [
    {
     "data": {
      "text/latex": [
       "$\\displaystyle \\frac{a s}{- a^{2} + s^{2}}$"
      ],
      "text/plain": [
       "a*s/(-a**2 + s**2)"
      ]
     },
     "execution_count": 91,
     "metadata": {},
     "output_type": "execute_result"
    }
   ],
   "source": [
    "# Calculating the laplace transform of f' by first differentiating, them Laplace Transforming\n",
    "\n",
    "f = sinh(a*t)\n",
    "\n",
    "f_diff = f.diff(t)\n",
    "\n",
    "lap_diff = laplace_transform(f_diff, t, s)\n",
    "\n",
    "lap_diff[0]\n"
   ]
  },
  {
   "cell_type": "code",
   "execution_count": 94,
   "metadata": {},
   "outputs": [
    {
     "data": {
      "text/latex": [
       "$\\displaystyle \\frac{a s}{- a^{2} + s^{2}}$"
      ],
      "text/plain": [
       "a*s/(-a**2 + s**2)"
      ]
     },
     "execution_count": 94,
     "metadata": {},
     "output_type": "execute_result"
    }
   ],
   "source": [
    "# Calculating the laplace transform of f' by using the formula L(f'(t)) = -f(0) + sF(s)\n",
    "\n",
    "ans = -f.subs(t,0) + s*laplace_transform(f, t, s)[0]\n",
    "ans\n"
   ]
  },
  {
   "cell_type": "code",
   "execution_count": 96,
   "metadata": {},
   "outputs": [
    {
     "data": {
      "text/plain": [
       "True"
      ]
     },
     "execution_count": 96,
     "metadata": {},
     "output_type": "execute_result"
    }
   ],
   "source": [
    "lap_diff[0] == ans"
   ]
  },
  {
   "cell_type": "code",
   "execution_count": 103,
   "metadata": {},
   "outputs": [],
   "source": [
    "from sympy import simplify\n",
    "\n",
    "def does_formula_work(f):\n",
    "    return (simplify(laplace_transform(f.diff(t), t, s)[0])) == (simplify(- f.subs(t, 0) + s*laplace_transform(f, t, s)[0]))"
   ]
  },
  {
   "cell_type": "code",
   "execution_count": 104,
   "metadata": {},
   "outputs": [
    {
     "data": {
      "text/plain": [
       "True"
      ]
     },
     "execution_count": 104,
     "metadata": {},
     "output_type": "execute_result"
    }
   ],
   "source": [
    "from sympy import cosh\n",
    "\n",
    "f = cosh(a*t)\n",
    "\n",
    "does_formula_work(f)"
   ]
  },
  {
   "cell_type": "code",
   "execution_count": 105,
   "metadata": {},
   "outputs": [
    {
     "data": {
      "text/plain": [
       "False"
      ]
     },
     "execution_count": 105,
     "metadata": {},
     "output_type": "execute_result"
    }
   ],
   "source": [
    "from sympy import tanh\n",
    "\n",
    "f = tanh(a*t)\n",
    "\n",
    "does_formula_work(f)"
   ]
  },
  {
   "cell_type": "code",
   "execution_count": null,
   "metadata": {},
   "outputs": [],
   "source": []
  }
 ],
 "metadata": {
  "kernelspec": {
   "display_name": "Python 3",
   "language": "python",
   "name": "python3"
  },
  "language_info": {
   "codemirror_mode": {
    "name": "ipython",
    "version": 3
   },
   "file_extension": ".py",
   "mimetype": "text/x-python",
   "name": "python",
   "nbconvert_exporter": "python",
   "pygments_lexer": "ipython3",
   "version": "3.12.7"
  }
 },
 "nbformat": 4,
 "nbformat_minor": 2
}

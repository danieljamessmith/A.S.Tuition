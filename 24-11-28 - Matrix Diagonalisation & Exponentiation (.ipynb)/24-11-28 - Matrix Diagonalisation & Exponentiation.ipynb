{
 "cells": [
  {
   "cell_type": "code",
   "execution_count": null,
   "metadata": {},
   "outputs": [],
   "source": [
    "import numpy as np\n",
    "import sympy as sp"
   ]
  },
  {
   "cell_type": "markdown",
   "metadata": {},
   "source": [
    "# Theory\n",
    "\n",
    "Last time we discussed linear systems of ODEs like\n",
    "\n",
    "\\begin{align*}\n",
    "x' &= x + 2y \\\\\n",
    "y' &= 2x + y\n",
    "\\end{align*}\n",
    "\n",
    "We wrote the system as a matrix equation:\n",
    "\n",
    "$$\n",
    "\\frac{\\text{d}\\mathbf{x}}{\\text{d}t} = \\mathbf{A}\\mathbf{x}\n",
    "$$\n",
    "\n",
    "where \n",
    "\n",
    "\\begin{align*}\n",
    "&\\mathbf{x}(t) = \\begin{pmatrix}\n",
    "             x(t) \\\\\n",
    "             y(t) \\end{pmatrix} \\\\\n",
    "\\\\\n",
    "&\\mathbf{A} = \\begin{pmatrix}\n",
    "             1 & 2 \\\\\n",
    "             2 & 1 \\end{pmatrix}\n",
    "\\end{align*}\n",
    "\n",
    "and used SymPy to compute the **Matrix Exponential** of $\\mathbf{A}t$ to write down the solution \n",
    "\n",
    "$$\n",
    "\\mathbf{x}(t) = e^{\\mathbf{A}t}\\mathbf{x}(0)\n",
    "$$\n",
    "\n",
    "So the equation, in matrix form, reads:\n",
    "\n",
    "$$\n",
    "\\frac{\\text{d}}{\\text{d}t} \\begin{pmatrix}\n",
    "             x \\\\\n",
    "             y \\end{pmatrix} = \\begin{pmatrix}\n",
    "             1 & 2 \\\\\n",
    "             2 & 1 \\end{pmatrix} \\begin{pmatrix}\n",
    "             x \\\\\n",
    "             y \\end{pmatrix} = \\begin{pmatrix} x + 2y \\\\ 2x + y \\end{pmatrix}\n",
    "$$\n",
    "\n",
    "\n"
   ]
  },
  {
   "cell_type": "markdown",
   "metadata": {},
   "source": [
    "\n",
    "----\n",
    "\n",
    "The matrix exponential of a square matrix $\\mathbf{A}$ is another square matrix of the same shape definined by the convergent infinite series \n",
    "\n",
    "\\begin{align*}\n",
    "e^{\\mathbf{A}} &:= \\sum_{n=0}^\\infty \\frac{\\mathbf{A}^n}{n!} \\\\\n",
    "               & = \\mathbf{I} + \\mathbf{A} + \\frac{\\mathbf{A}^2}{2} + \\frac{\\mathbf{A}^3}{6} + \\dots\n",
    "\\end{align*}\n",
    "\n",
    "For **diagonalisable** matrices $\\mathbf{A}$ the exponential $e^\\mathbf{A}$ can be computed by leveraging the diagonalisation. \n",
    "\n",
    "A **diagonalisation** of a diagonalisable matrix $\\mathbf{A}$ is a factorisation of the form\n",
    "\n",
    "$$\n",
    "\\mathbf{A} = \\mathbf{P} \\mathbf{D} \\mathbf{P}^{-1}\n",
    "$$\n",
    "\n",
    "where $\\mathbf{P}$ and $\\mathbf{D}$ are two square matrices of the same shape as $\\mathbf{A}$. The matrix $\\mathbf{P}$ is built by making the eigenvectors of $\\mathbf{A}$ the columns of a square matrix, while $\\mathbf{D}$ is a diagonal matrix whose diagonal entries are precisely the eigenvalues of $\\mathbf{A}$\n",
    "\n",
    "The matrix exponential is then convenientally given by (why?)\n",
    "\n",
    "$$\n",
    "e^{\\mathbf{A}} = \\mathbf{P} e^{\\mathbf{D}} \\mathbf{P}^{-1}\n",
    "$$\n",
    "\n",
    "where $e^\\mathbf{D}$ is easily computed, because the matrix exponential of a diagonal matrix is the new diagonal matrix obtained by exponentiating the diagonal entries of $\\mathbf{D}$.\n"
   ]
  },
  {
   "cell_type": "markdown",
   "metadata": {},
   "source": [
    "---\n",
    "\n",
    "For example, if \n",
    "\n",
    "$$\n",
    "\\mathbf{D} = \\begin{pmatrix} 1 & 0 \\\\ 0 & 2 \\end{pmatrix}\n",
    "$$\n",
    "\n",
    "then computing the matrix exponential is really easy, it is just\n",
    "\n",
    "$$\n",
    "e^\\mathbf{D} = \\begin{pmatrix} e^1 & 0 \\\\ 0 & e^2 \\end{pmatrix}\n",
    "$$"
   ]
  },
  {
   "cell_type": "markdown",
   "metadata": {},
   "source": [
    "\n",
    "----\n",
    "\n",
    "In this notebook we'll walk through computing the matrix exponential $e^{\\mathbf{A}t}$ for the matrix \n",
    "\n",
    "$$\n",
    "\\mathbf{A} = \\begin{pmatrix}\n",
    "             1 & 2 \\\\\n",
    "             2 & 1 \\end{pmatrix}\n",
    "$$\n",
    "\n",
    "we used last time.\n",
    "\n",
    "We'll compare the results we get by directly using `sympy.exp()` on the matrix vs. computing the matrix exponential by using the diagonalisation"
   ]
  },
  {
   "cell_type": "markdown",
   "metadata": {},
   "source": [
    "If \n",
    "\n",
    "$$\n",
    "\\mathbf{A} = \\begin{pmatrix}\n",
    "             1 & 2 \\\\\n",
    "             2 & 1 \\end{pmatrix}\n",
    "$$\n",
    "\n",
    "Then by $\\mathbf{A}t$ I just mean\n",
    "\n",
    "$$\n",
    "\\mathbf{A}t = \\begin{pmatrix}\n",
    "             t & 2t \\\\\n",
    "             2t & t \\end{pmatrix}\n",
    "$$\n",
    "\n",
    "This product $\\mathbf{A}t$ is relevant because it appears in the general solution of a linear system of ODEs:\n",
    "\n",
    "$$\n",
    "\\mathbf{x}(t) = e^{\\mathbf{A}t}\\mathbf{x}(0)\n",
    "$$"
   ]
  },
  {
   "cell_type": "markdown",
   "metadata": {},
   "source": [
    "# Code\n",
    "\n",
    "## Matrix Exponential with `sympy.exp`"
   ]
  },
  {
   "cell_type": "code",
   "execution_count": 47,
   "metadata": {},
   "outputs": [
    {
     "data": {
      "text/latex": [
       "$\\displaystyle \\left[\\begin{matrix}1 & 2\\\\2 & 1\\end{matrix}\\right]$"
      ],
      "text/plain": [
       "Matrix([\n",
       "[1, 2],\n",
       "[2, 1]])"
      ]
     },
     "execution_count": 47,
     "metadata": {},
     "output_type": "execute_result"
    }
   ],
   "source": [
    "A = sp.Matrix([[1, 2], \n",
    "               [2, 1]])\n",
    "A"
   ]
  },
  {
   "cell_type": "markdown",
   "metadata": {},
   "source": [
    "Last time we called `sympy.exp` as a black box and didn't even define the matrix exponential until the end of the session"
   ]
  },
  {
   "cell_type": "code",
   "execution_count": 48,
   "metadata": {},
   "outputs": [
    {
     "data": {
      "text/latex": [
       "$\\displaystyle \\left[\\begin{matrix}\\frac{e^{3 t}}{2} + \\frac{e^{- t}}{2} & \\frac{e^{3 t}}{2} - \\frac{e^{- t}}{2}\\\\\\frac{e^{3 t}}{2} - \\frac{e^{- t}}{2} & \\frac{e^{3 t}}{2} + \\frac{e^{- t}}{2}\\end{matrix}\\right]$"
      ],
      "text/plain": [
       "Matrix([\n",
       "[exp(3*t)/2 + exp(-t)/2, exp(3*t)/2 - exp(-t)/2],\n",
       "[exp(3*t)/2 - exp(-t)/2, exp(3*t)/2 + exp(-t)/2]])"
      ]
     },
     "execution_count": 48,
     "metadata": {},
     "output_type": "execute_result"
    }
   ],
   "source": [
    "# Computing e^At by using the inbuilt SymPy matrix exponential\n",
    "\n",
    "t = sp.symbols('t')\n",
    "exp_At = sp.exp(A * t)\n",
    "\n",
    "exp_At\n"
   ]
  },
  {
   "cell_type": "markdown",
   "metadata": {},
   "source": [
    "## Diagonalising $\\mathbf{A}$\n",
    "\n",
    "### Eigenvalues and the matrix $\\mathbf{D}$\n",
    "\n",
    "To diagonalise the matrix $\\mathbf{A}$ we need to construct the matrices $\\mathbf{P}$ and $\\mathbf{D}$. In order to do this, we need to find the eigenvalues and eigenvectors of $\\mathbf{A}$.\n",
    "\n",
    "`A.eigenvals()` returns a dictionary, where the key : value pairs are the eigenvalues and the number of times they're repeated (*multiplicities*)"
   ]
  },
  {
   "cell_type": "code",
   "execution_count": 18,
   "metadata": {},
   "outputs": [
    {
     "data": {
      "text/plain": [
       "{-2: 1, 3: 1, -1: 1}"
      ]
     },
     "execution_count": 18,
     "metadata": {},
     "output_type": "execute_result"
    }
   ],
   "source": [
    "# Computing eigenvalues of A\n",
    "\n",
    "A.eigenvals()"
   ]
  },
  {
   "cell_type": "code",
   "execution_count": 53,
   "metadata": {},
   "outputs": [
    {
     "data": {
      "text/plain": [
       "[3, -1]"
      ]
     },
     "execution_count": 53,
     "metadata": {},
     "output_type": "execute_result"
    }
   ],
   "source": [
    "# Turning the dictionary into a list:\n",
    "\n",
    "eigenvalues = [val for val, mult in A.eigenvals().items() for _ in range(mult)]\n",
    "eigenvalues"
   ]
  },
  {
   "cell_type": "markdown",
   "metadata": {},
   "source": [
    "`sympy.diag` turns a list into a diagonal matrix, where the lists' entries become the diagonal entries of a diagonal matrix"
   ]
  },
  {
   "cell_type": "code",
   "execution_count": 54,
   "metadata": {},
   "outputs": [
    {
     "data": {
      "text/latex": [
       "$\\displaystyle \\left[\\begin{matrix}3 & 0\\\\0 & -1\\end{matrix}\\right]$"
      ],
      "text/plain": [
       "Matrix([\n",
       "[3,  0],\n",
       "[0, -1]])"
      ]
     },
     "execution_count": 54,
     "metadata": {},
     "output_type": "execute_result"
    }
   ],
   "source": [
    "# Constructing the diagonal matrix D used in the diagonalisation of A = P * D * P^-1\n",
    "\n",
    "D = sp.diag(*eigenvalues)\n",
    "D"
   ]
  },
  {
   "cell_type": "markdown",
   "metadata": {},
   "source": [
    "### Eigenvectors and the matrix $\\mathbf{P}$\n",
    "\n",
    "The output of `A.eigenvects()` is a list of tuples, where each tuple has the following structure:\n",
    "\n",
    "1. **Eigenvalue**: A scalar value $\\lambda$.\n",
    "2. **Algebraic Multiplicity**: An integer indicating the multiplicity of the eigenvalue (number of times it is repeated)\n",
    "3. **Eigenvectors**: A list of eigenvectors (each a column vector as a `Matrix` object) corresponding to the eigenvalue.\n",
    "\n",
    "Example:\n",
    "[ \n",
    "($\\lambda_1$, $m_1$, [$v_{11}$, $v_{12}$, $\\dots$]), \n",
    "($\\lambda_2$, $m_2$, [$v_{21}$, $\\dots$]), \n",
    "$\\dots$ \n",
    "]\n",
    "\n",
    "\n",
    "To extract the first eigenvector for the first eigenvalue:\n",
    "```python\n",
    "eigenvectors[0][2][0]\n"
   ]
  },
  {
   "cell_type": "code",
   "execution_count": 55,
   "metadata": {},
   "outputs": [
    {
     "data": {
      "text/plain": [
       "[(-1,\n",
       "  1,\n",
       "  [Matrix([\n",
       "   [-1],\n",
       "   [ 1]])]),\n",
       " (3,\n",
       "  1,\n",
       "  [Matrix([\n",
       "   [1],\n",
       "   [1]])])]"
      ]
     },
     "execution_count": 55,
     "metadata": {},
     "output_type": "execute_result"
    }
   ],
   "source": [
    "# Computing the eigenvectors of A\n",
    "\n",
    "eigenvectors = A.eigenvects()\n",
    "eigenvectors\n"
   ]
  },
  {
   "cell_type": "code",
   "execution_count": 58,
   "metadata": {},
   "outputs": [
    {
     "data": {
      "text/plain": [
       "(-1,\n",
       " 1,\n",
       " [Matrix([\n",
       "  [-1],\n",
       "  [ 1]])])"
      ]
     },
     "execution_count": 58,
     "metadata": {},
     "output_type": "execute_result"
    }
   ],
   "source": [
    "eigenvectors[0]"
   ]
  },
  {
   "cell_type": "code",
   "execution_count": 61,
   "metadata": {},
   "outputs": [
    {
     "data": {
      "text/plain": [
       "[Matrix([\n",
       " [-1],\n",
       " [ 1]])]"
      ]
     },
     "execution_count": 61,
     "metadata": {},
     "output_type": "execute_result"
    }
   ],
   "source": [
    "eigenvectors[0][2]"
   ]
  },
  {
   "cell_type": "code",
   "execution_count": 62,
   "metadata": {},
   "outputs": [
    {
     "data": {
      "text/latex": [
       "$\\displaystyle \\left[\\begin{matrix}-1\\\\1\\end{matrix}\\right]$"
      ],
      "text/plain": [
       "Matrix([\n",
       "[-1],\n",
       "[ 1]])"
      ]
     },
     "execution_count": 62,
     "metadata": {},
     "output_type": "execute_result"
    }
   ],
   "source": [
    "# So the λ = -1 eigenvector is \n",
    "eigenvectors[0][2][0]"
   ]
  },
  {
   "cell_type": "code",
   "execution_count": 63,
   "metadata": {},
   "outputs": [
    {
     "data": {
      "text/latex": [
       "$\\displaystyle \\left[\\begin{matrix}1\\\\1\\end{matrix}\\right]$"
      ],
      "text/plain": [
       "Matrix([\n",
       "[1],\n",
       "[1]])"
      ]
     },
     "execution_count": 63,
     "metadata": {},
     "output_type": "execute_result"
    }
   ],
   "source": [
    "# And the λ = 3 eigenvector is\n",
    "eigenvectors[1][2][0]"
   ]
  },
  {
   "cell_type": "markdown",
   "metadata": {},
   "source": [
    "Thus the eigenvectors are \n",
    "\n",
    "$$\n",
    "\\begin{pmatrix}\n",
    "    1 \\\\ 1\n",
    "\\end{pmatrix}\n",
    "$$\n",
    "\n",
    "corresponding to the eigenvalue $\\lambda = 3$ and \n",
    "\n",
    "$$\n",
    "\\begin{pmatrix}\n",
    "    -1 \\\\ 1\n",
    "\\end{pmatrix}\n",
    "$$\n",
    "\n",
    "corresponding to the eigenvalue $\\lambda = -1$.\n",
    "\n",
    "The matrix $\\mathbf{P}$ is constructed by concatenating the eigenvectors into a square matrix. (In this order, to match the order of the eigenvalues in the matrix $\\mathbf{D}$). \n",
    "\n",
    "That is, \n",
    "\n",
    "$$ \\mathbf{P} = \\begin{pmatrix} 1 & -1 \\\\ 1 & 1 \\end{pmatrix} $$\n",
    "\n",
    "In SymPy we can achieve this with `sympy.Matrix.hstack`\n"
   ]
  },
  {
   "cell_type": "code",
   "execution_count": 64,
   "metadata": {},
   "outputs": [
    {
     "data": {
      "text/latex": [
       "$\\displaystyle \\left[\\begin{matrix}1 & -1\\\\1 & 1\\end{matrix}\\right]$"
      ],
      "text/plain": [
       "Matrix([\n",
       "[1, -1],\n",
       "[1,  1]])"
      ]
     },
     "execution_count": 64,
     "metadata": {},
     "output_type": "execute_result"
    }
   ],
   "source": [
    "# Constructing the matrix P used in the diagonalisation A = P * D * P^-1 by concatenating the eigenvectors into a matrix\n",
    "\n",
    "P = sp.Matrix.hstack(eigenvectors[1][2][0], eigenvectors[0][2][0]) # The eigenvectors need to go into P in the same order that the eigenvalues went into D\n",
    "P\n"
   ]
  },
  {
   "cell_type": "markdown",
   "metadata": {},
   "source": [
    "### Completing the diagonalisation\n",
    "\n",
    "The diagonalisation of $\\mathbf{A}$ is the factorisation of matrices\n",
    "\n",
    "$$\n",
    "\\mathbf{A} = \\mathbf{P} \\mathbf{D} \\mathbf{P}^{-1}\n",
    "$$\n",
    "\n",
    "In our case, this is \n",
    "\n",
    "$$\n",
    "\\begin{pmatrix}\n",
    "1 & 2 \\\\\n",
    "2 & 1\n",
    "\\end{pmatrix}\n",
    "=\n",
    "\\begin{pmatrix}\n",
    "1 & -1 \\\\\n",
    "1 & 1\n",
    "\\end{pmatrix}\n",
    "\\begin{pmatrix}\n",
    "3 & 0 \\\\\n",
    "0 & -1\n",
    "\\end{pmatrix}\n",
    "\\begin{pmatrix}\n",
    "1 & -1 \\\\\n",
    "1 & 1\n",
    "\\end{pmatrix}^{-1}\n",
    "$$\n",
    "\n",
    "We can verify this indeed is true before proceeding to calculate the matrix exponential\n"
   ]
  },
  {
   "cell_type": "code",
   "execution_count": 65,
   "metadata": {},
   "outputs": [
    {
     "data": {
      "text/latex": [
       "$\\displaystyle \\left[\\begin{matrix}\\frac{1}{2} & \\frac{1}{2}\\\\- \\frac{1}{2} & \\frac{1}{2}\\end{matrix}\\right]$"
      ],
      "text/plain": [
       "Matrix([\n",
       "[ 1/2, 1/2],\n",
       "[-1/2, 1/2]])"
      ]
     },
     "execution_count": 65,
     "metadata": {},
     "output_type": "execute_result"
    }
   ],
   "source": [
    "# Define P^-1 (the inverse of P)\n",
    "P_inv = P.inv()\n",
    "P_inv\n"
   ]
  },
  {
   "cell_type": "code",
   "execution_count": 66,
   "metadata": {},
   "outputs": [
    {
     "data": {
      "text/latex": [
       "$\\displaystyle \\left[\\begin{matrix}1 & 2\\\\2 & 1\\end{matrix}\\right]$"
      ],
      "text/plain": [
       "Matrix([\n",
       "[1, 2],\n",
       "[2, 1]])"
      ]
     },
     "execution_count": 66,
     "metadata": {},
     "output_type": "execute_result"
    }
   ],
   "source": [
    "# Computing PDP^-1 to see if this does actually return A\n",
    "\n",
    "A_reconstructed = P * D * P_inv\n",
    "A_reconstructed"
   ]
  },
  {
   "cell_type": "code",
   "execution_count": 67,
   "metadata": {},
   "outputs": [
    {
     "data": {
      "text/plain": [
       "True"
      ]
     },
     "execution_count": 67,
     "metadata": {},
     "output_type": "execute_result"
    }
   ],
   "source": [
    "A == A_reconstructed"
   ]
  },
  {
   "cell_type": "markdown",
   "metadata": {},
   "source": [
    "### Using the diagonalisation to compute the matrix exponential"
   ]
  },
  {
   "cell_type": "code",
   "execution_count": 68,
   "metadata": {},
   "outputs": [
    {
     "data": {
      "text/latex": [
       "$\\displaystyle \\left[\\begin{matrix}t & 2 t\\\\2 t & t\\end{matrix}\\right]$"
      ],
      "text/plain": [
       "Matrix([\n",
       "[  t, 2*t],\n",
       "[2*t,   t]])"
      ]
     },
     "execution_count": 68,
     "metadata": {},
     "output_type": "execute_result"
    }
   ],
   "source": [
    "# Multiply the matrices A and D by a variable 't' in order to calculate e^At\n",
    "\n",
    "t = sp.symbols('t')\n",
    "\n",
    "At = A*t\n",
    "Dt = D*t\n",
    "\n",
    "At"
   ]
  },
  {
   "cell_type": "code",
   "execution_count": 69,
   "metadata": {},
   "outputs": [
    {
     "data": {
      "text/latex": [
       "$\\displaystyle \\left[\\begin{matrix}3 t & 0\\\\0 & - t\\end{matrix}\\right]$"
      ],
      "text/plain": [
       "Matrix([\n",
       "[3*t,  0],\n",
       "[  0, -t]])"
      ]
     },
     "execution_count": 69,
     "metadata": {},
     "output_type": "execute_result"
    }
   ],
   "source": [
    "Dt"
   ]
  },
  {
   "cell_type": "code",
   "execution_count": 70,
   "metadata": {},
   "outputs": [
    {
     "data": {
      "text/latex": [
       "$\\displaystyle \\left[\\begin{matrix}t & 2 t\\\\2 t & t\\end{matrix}\\right]$"
      ],
      "text/plain": [
       "Matrix([\n",
       "[  t, 2*t],\n",
       "[2*t,   t]])"
      ]
     },
     "execution_count": 70,
     "metadata": {},
     "output_type": "execute_result"
    }
   ],
   "source": [
    "# Verifying that our diagonalisation still holds \n",
    "\n",
    "At_reconstructed = P * Dt * P_inv\n",
    "At_reconstructed"
   ]
  },
  {
   "cell_type": "code",
   "execution_count": 71,
   "metadata": {},
   "outputs": [
    {
     "data": {
      "text/latex": [
       "$\\displaystyle \\left[\\begin{matrix}e^{3 t} & 0\\\\0 & e^{- t}\\end{matrix}\\right]$"
      ],
      "text/plain": [
       "Matrix([\n",
       "[exp(3*t),       0],\n",
       "[       0, exp(-t)]])"
      ]
     },
     "execution_count": 71,
     "metadata": {},
     "output_type": "execute_result"
    }
   ],
   "source": [
    "# The matrix exponential of a diagonal matrix is just the new diagonal matrix formed by exponentiating each of the diagonal entries\n",
    "\n",
    "exp_Dt = sp.diag(*[sp.exp(val) for val in Dt.diagonal()])\n",
    "exp_Dt"
   ]
  },
  {
   "cell_type": "code",
   "execution_count": 72,
   "metadata": {},
   "outputs": [
    {
     "data": {
      "text/latex": [
       "$\\displaystyle \\left[\\begin{matrix}\\frac{e^{3 t}}{2} + \\frac{e^{- t}}{2} & \\frac{e^{3 t}}{2} - \\frac{e^{- t}}{2}\\\\\\frac{e^{3 t}}{2} - \\frac{e^{- t}}{2} & \\frac{e^{3 t}}{2} + \\frac{e^{- t}}{2}\\end{matrix}\\right]$"
      ],
      "text/plain": [
       "Matrix([\n",
       "[exp(3*t)/2 + exp(-t)/2, exp(3*t)/2 - exp(-t)/2],\n",
       "[exp(3*t)/2 - exp(-t)/2, exp(3*t)/2 + exp(-t)/2]])"
      ]
     },
     "execution_count": 72,
     "metadata": {},
     "output_type": "execute_result"
    }
   ],
   "source": [
    "# Computing the matrix exponential twice:\n",
    "# 1) by lazily calling `sp.exp` as before\n",
    "# 2) by leveraging the diagonalisation we have built:   At   = P *   Dt *   P^-1\n",
    "#                                                ==>  exp_At = P * exp_Dt * P^-1\n",
    "\n",
    "exp_At_viaSymPy = sp.exp(A * t)\n",
    "exp_At_viaDiagonalisation = P * exp_Dt * P_inv\n",
    "\n",
    "exp_At_viaDiagonalisation"
   ]
  },
  {
   "cell_type": "code",
   "execution_count": 73,
   "metadata": {},
   "outputs": [
    {
     "data": {
      "text/plain": [
       "True"
      ]
     },
     "execution_count": 73,
     "metadata": {},
     "output_type": "execute_result"
    }
   ],
   "source": [
    "exp_At_viaDiagonalisation == exp_At_viaSymPy"
   ]
  },
  {
   "cell_type": "markdown",
   "metadata": {},
   "source": [
    "# Exercises\n",
    "\n",
    "## 1)\n",
    "\n",
    "Consider the matrix\n",
    "\n",
    "$$\n",
    "\\mathbf{A} = \n",
    "\\begin{pmatrix}\n",
    "-1 & -19 & -4 \\\\\n",
    "0 & -2 & 0 \\\\\n",
    "0 & 15 & 3\n",
    "\\end{pmatrix}\n",
    "$$\n",
    "\n",
    "\n",
    "- i) Find the eigenvalues and eigenvectors of $\\mathbf{A}$ using SymPy\n",
    "- ii) Use the eigenvalues and eigenvectors to contruct the matrices $\\mathbf{P}$ and $\\mathbf{D}$\n",
    "- iii) Compute $\\mathbf{PDP}^{-1}$\n",
    "- iv) Compute the matrix exponential $e^\\mathbf{A}$ by using the diagonalisation $A = \\mathbf{PDP}^{-1}$"
   ]
  },
  {
   "cell_type": "code",
   "execution_count": 6,
   "metadata": {},
   "outputs": [
    {
     "data": {
      "text/latex": [
       "$\\displaystyle \\left[\\begin{matrix}-1 & -19 & -4\\\\0 & -2 & 0\\\\0 & 15 & 3\\end{matrix}\\right]$"
      ],
      "text/plain": [
       "Matrix([\n",
       "[-1, -19, -4],\n",
       "[ 0,  -2,  0],\n",
       "[ 0,  15,  3]])"
      ]
     },
     "execution_count": 6,
     "metadata": {},
     "output_type": "execute_result"
    }
   ],
   "source": [
    "import sympy as sp\n",
    "\n",
    "A_1 = sp.Matrix([[-1, -19, -4],\n",
    "[0, -2, 0],\n",
    "[0, 15, 3]])\n",
    "\n",
    "A_1"
   ]
  },
  {
   "cell_type": "code",
   "execution_count": null,
   "metadata": {},
   "outputs": [
    {
     "data": {
      "text/plain": [
       "[(-2,\n",
       "  1,\n",
       "  [Matrix([\n",
       "   [-7/3],\n",
       "   [-1/3],\n",
       "   [   1]])]),\n",
       " (-1,\n",
       "  1,\n",
       "  [Matrix([\n",
       "   [1],\n",
       "   [0],\n",
       "   [0]])]),\n",
       " (3,\n",
       "  1,\n",
       "  [Matrix([\n",
       "   [-1],\n",
       "   [ 0],\n",
       "   [ 1]])])]"
      ]
     },
     "execution_count": 9,
     "metadata": {},
     "output_type": "execute_result"
    }
   ],
   "source": [
    "A_1_EigVec = A_1.eigenvects()\n",
    "\n",
    "A_1_EigVec\n",
    "\n"
   ]
  },
  {
   "cell_type": "code",
   "execution_count": null,
   "metadata": {},
   "outputs": [
    {
     "data": {
      "text/latex": [
       "$\\displaystyle \\left[\\begin{matrix}- \\frac{7}{3} & 1 & -1\\\\- \\frac{1}{3} & 0 & 0\\\\1 & 0 & 1\\end{matrix}\\right]$"
      ],
      "text/plain": [
       "Matrix([\n",
       "[-7/3, 1, -1],\n",
       "[-1/3, 0,  0],\n",
       "[   1, 0,  1]])"
      ]
     },
     "execution_count": 16,
     "metadata": {},
     "output_type": "execute_result"
    }
   ],
   "source": [
    "#find P\n",
    "\n",
    "first_eig = A_1_EigVec[0][2][0]\n",
    "second_eig = A_1_EigVec[1][2][0]\n",
    "third_eig = A_1_EigVec[2][2][0]\n",
    "\n",
    "P_1 = sp.Matrix.hstack(first_eig, second_eig, third_eig)\n",
    "\n",
    "P_1\n"
   ]
  },
  {
   "cell_type": "code",
   "execution_count": null,
   "metadata": {},
   "outputs": [
    {
     "data": {
      "text/latex": [
       "$\\displaystyle \\left[\\begin{matrix}0 & -3 & 0\\\\1 & -4 & 1\\\\0 & 3 & 1\\end{matrix}\\right]$"
      ],
      "text/plain": [
       "Matrix([\n",
       "[0, -3, 0],\n",
       "[1, -4, 1],\n",
       "[0,  3, 1]])"
      ]
     },
     "execution_count": 17,
     "metadata": {},
     "output_type": "execute_result"
    }
   ],
   "source": [
    "# Find inverse of P\n",
    "P_inv_1 = P_1.inv()\n",
    "\n",
    "P_inv_1"
   ]
  },
  {
   "cell_type": "code",
   "execution_count": null,
   "metadata": {},
   "outputs": [
    {
     "data": {
      "text/latex": [
       "$\\displaystyle \\left[\\begin{matrix}-2 & 0 & 0\\\\0 & -1 & 0\\\\0 & 0 & 3\\end{matrix}\\right]$"
      ],
      "text/plain": [
       "Matrix([\n",
       "[-2,  0, 0],\n",
       "[ 0, -1, 0],\n",
       "[ 0,  0, 3]])"
      ]
     },
     "execution_count": 32,
     "metadata": {},
     "output_type": "execute_result"
    }
   ],
   "source": [
    "# Find D\n",
    "\n",
    "first_eigval = A_1_EigVec[0][0]\n",
    "second_eigval = A_1_EigVec[1][0]\n",
    "third_eigval = A_1_EigVec[2][0]\n",
    "\n",
    "\n",
    "D_1 = sp.diag(first_eigval, second_eigval, third_eigval)\n",
    "D_1\n"
   ]
  },
  {
   "cell_type": "code",
   "execution_count": 34,
   "metadata": {},
   "outputs": [
    {
     "data": {
      "text/latex": [
       "$\\displaystyle \\left[\\begin{matrix}-1 & -19 & -4\\\\0 & -2 & 0\\\\0 & 15 & 3\\end{matrix}\\right]$"
      ],
      "text/plain": [
       "Matrix([\n",
       "[-1, -19, -4],\n",
       "[ 0,  -2,  0],\n",
       "[ 0,  15,  3]])"
      ]
     },
     "execution_count": 34,
     "metadata": {},
     "output_type": "execute_result"
    }
   ],
   "source": [
    "answer_1 = P_1 * D_1 * P_inv_1\n",
    "answer_1"
   ]
  },
  {
   "cell_type": "code",
   "execution_count": 35,
   "metadata": {},
   "outputs": [
    {
     "data": {
      "text/plain": [
       "True"
      ]
     },
     "execution_count": 35,
     "metadata": {},
     "output_type": "execute_result"
    }
   ],
   "source": [
    "answer_1 == A_1"
   ]
  },
  {
   "cell_type": "code",
   "execution_count": 44,
   "metadata": {},
   "outputs": [
    {
     "data": {
      "text/latex": [
       "$\\displaystyle \\left[\\begin{matrix}e^{-1} & - 3 e^{3} - \\frac{4}{e} + \\frac{7}{e^{2}} & - e^{3} + e^{-1}\\\\0 & e^{-2} & 0\\\\0 & - \\frac{3}{e^{2}} + 3 e^{3} & e^{3}\\end{matrix}\\right]$"
      ],
      "text/plain": [
       "Matrix([\n",
       "[exp(-1), -3*exp(3) - 4*exp(-1) + 7*exp(-2), -exp(3) + exp(-1)],\n",
       "[      0,                           exp(-2),                 0],\n",
       "[      0,             -3*exp(-2) + 3*exp(3),            exp(3)]])"
      ]
     },
     "execution_count": 44,
     "metadata": {},
     "output_type": "execute_result"
    }
   ],
   "source": [
    "#find e^eigenvalues\n",
    "\n",
    "\n",
    "exp_D_1 = sp.diag(sp.exp(first_eigval), sp.exp(second_eigval), sp.exp(third_eigval))\n",
    "\n",
    "\n",
    "# calculate matrix exp of A\n",
    "\n",
    "A_1_exp = P_1 * exp_D_1 * P_inv_1\n",
    "A_1_exp"
   ]
  },
  {
   "cell_type": "code",
   "execution_count": 45,
   "metadata": {},
   "outputs": [
    {
     "data": {
      "text/latex": [
       "$\\displaystyle \\left[\\begin{matrix}e^{-1} & - 3 e^{3} - \\frac{4}{e} + \\frac{7}{e^{2}} & - e^{3} + e^{-1}\\\\0 & e^{-2} & 0\\\\0 & - \\frac{3}{e^{2}} + 3 e^{3} & e^{3}\\end{matrix}\\right]$"
      ],
      "text/plain": [
       "Matrix([\n",
       "[exp(-1), -3*exp(3) - 4*exp(-1) + 7*exp(-2), -exp(3) + exp(-1)],\n",
       "[      0,                           exp(-2),                 0],\n",
       "[      0,             -3*exp(-2) + 3*exp(3),            exp(3)]])"
      ]
     },
     "execution_count": 45,
     "metadata": {},
     "output_type": "execute_result"
    }
   ],
   "source": [
    "## Compare with the result we get by directly calling `sp.exp` on A\n",
    "\n",
    "A_1_exp_lazy = sp.exp(A)\n",
    "A_1_exp_lazy"
   ]
  },
  {
   "cell_type": "markdown",
   "metadata": {},
   "source": [
    "## 2)\n",
    "\n",
    "Consider the matrix\n",
    "\n",
    "$$\n",
    "\\mathbf{A} = \n",
    "\\begin{pmatrix}\n",
    "4 & -9 & 6 & 12 \\\\\n",
    "0 & -1 & 4 & 6 \\\\\n",
    "2 & -11 & 8 & 16 \\\\\n",
    "-1 & 3 & 0 & -1\n",
    "\\end{pmatrix}\n",
    "$$\n",
    "\n",
    "\n",
    "- i) Find the eigenvalues and eigenvectors of $\\mathbf{A}$ using SymPy\n",
    "- ii) Use the eigenvalues and eigenvectors to contruct the matrices $\\mathbf{P}$ and $\\mathbf{D}$\n",
    "- iii) Compute $\\mathbf{PDP}^{-1}$\n",
    "- iv) Compute the matrix exponential $e^\\mathbf{A}$ by using the diagonalisation $A = \\mathbf{PDP}^{-1}$"
   ]
  },
  {
   "cell_type": "code",
   "execution_count": null,
   "metadata": {},
   "outputs": [],
   "source": []
  },
  {
   "cell_type": "code",
   "execution_count": null,
   "metadata": {},
   "outputs": [],
   "source": []
  },
  {
   "cell_type": "markdown",
   "metadata": {},
   "source": [
    "---\n",
    "# Theory\n",
    "\n",
    "Last time we discussed linear systems of ODEs like\n",
    "\n",
    "\\begin{align*}\n",
    "x' &= x + 2y \\\\\n",
    "y' &= 2x + y\n",
    "\\end{align*}\n",
    "\n",
    "We wrote the system as a matrix equation:\n",
    "\n",
    "$$\n",
    "\\frac{\\text{d}\\mathbf{x}}{\\text{d}t} = \\mathbf{A}\\mathbf{x}\n",
    "$$\n",
    "\n",
    "where \n",
    "\n",
    "\\begin{align*}\n",
    "&\\mathbf{x}(t) = \\begin{pmatrix}\n",
    "             x(t) \\\\\n",
    "             y(t) \\\\ z(t) \\end{pmatrix} \\\\\n",
    "\\\\\n",
    "\n",
    "\\end{align*}\n",
    "\n",
    "and used SymPy to compute the **Matrix Exponential** of $\\mathbf{A}t$ to write down the solution \n",
    "\n",
    "$$\n",
    "\\mathbf{x}(t) = e^{\\mathbf{A}t}\\mathbf{x}(0)\n",
    "$$\n",
    "\n",
    "\n",
    "\n",
    "\n",
    "\n",
    "---"
   ]
  },
  {
   "cell_type": "markdown",
   "metadata": {},
   "source": [
    "## 3\n",
    "\n",
    "Consider the linear system of ODEs\n",
    "\n",
    "\\begin{align*}\n",
    "x' &= x + 4z \\\\\n",
    "y' &= 2y \\\\\n",
    "z' &= 3x + y - 3z\n",
    "\\end{align*}\n",
    "\n",
    "with initial conditions $x(0) = 0$, $y(0) = 0$ and $z(0) = 4$\n",
    "\n",
    "- i) Define the matrix $A$ for the system\n",
    "- ii) Compute the matrix exponential $e^{\\mathbf{A}t}$ by calling `sympy.exp`\n",
    "- iii) Compute the matrix exponential $e^{\\mathbf{A}t}$ by finding a diagonalisation of $\\mathbf{A}$ and compare your result with the result of part ii)\n",
    "- iv) Use the matrix exponential to find the solution of the system of ODEs"
   ]
  },
  {
   "cell_type": "markdown",
   "metadata": {},
   "source": []
  },
  {
   "cell_type": "code",
   "execution_count": 48,
   "metadata": {},
   "outputs": [
    {
     "data": {
      "text/latex": [
       "$\\displaystyle \\left[\\begin{matrix}1 & 0 & 4\\\\0 & 2 & 0\\\\3 & 1 & -3\\end{matrix}\\right]$"
      ],
      "text/plain": [
       "Matrix([\n",
       "[1, 0,  4],\n",
       "[0, 2,  0],\n",
       "[3, 1, -3]])"
      ]
     },
     "execution_count": 48,
     "metadata": {},
     "output_type": "execute_result"
    }
   ],
   "source": [
    "A_3 = sp.Matrix([[1,0,4],\n",
    "[0,2,0],\n",
    "[3,1,-3]])\n",
    "\n",
    "A_3"
   ]
  },
  {
   "cell_type": "code",
   "execution_count": 49,
   "metadata": {},
   "outputs": [],
   "source": [
    "A_3_exp_easy = sp.exp(A_3)"
   ]
  },
  {
   "cell_type": "code",
   "execution_count": null,
   "metadata": {},
   "outputs": [],
   "source": []
  }
 ],
 "metadata": {
  "kernelspec": {
   "display_name": "Python 3",
   "language": "python",
   "name": "python3"
  },
  "language_info": {
   "codemirror_mode": {
    "name": "ipython",
    "version": 3
   },
   "file_extension": ".py",
   "mimetype": "text/x-python",
   "name": "python",
   "nbconvert_exporter": "python",
   "pygments_lexer": "ipython3",
   "version": "3.12.7"
  }
 },
 "nbformat": 4,
 "nbformat_minor": 2
}

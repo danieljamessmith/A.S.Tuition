{
 "cells": [
  {
   "cell_type": "code",
   "execution_count": 1,
   "metadata": {},
   "outputs": [],
   "source": [
    "import sympy as sp\n",
    "from sympy import init_printing\n",
    "init_printing() "
   ]
  },
  {
   "cell_type": "markdown",
   "metadata": {},
   "source": [
    "# Systems of ODEs with the matrix exponential"
   ]
  },
  {
   "cell_type": "code",
   "execution_count": 2,
   "metadata": {},
   "outputs": [],
   "source": [
    "t = sp.symbols('t')\n",
    "x = sp.Function('x')(t)\n",
    "y = sp.Function('y')(t)"
   ]
  },
  {
   "cell_type": "markdown",
   "metadata": {},
   "source": [
    "Consider a coupled system of ordinary differential equations, to be solved for unknown functions $x(t)$ and $y(t)$\n",
    "\n",
    "\\begin{align*}\n",
    "x' &= x + 2y \\\\\n",
    "y' &= 2x + y\n",
    "\\end{align*}\n",
    "\n",
    "with initial data $x(0) = 4$ and $y(0) = 2$."
   ]
  },
  {
   "cell_type": "code",
   "execution_count": 3,
   "metadata": {},
   "outputs": [
    {
     "data": {
      "text/latex": [
       "$\\displaystyle \\left( \\frac{d}{d t} x{\\left(t \\right)} = x{\\left(t \\right)} + 2 y{\\left(t \\right)}, \\  \\frac{d}{d t} y{\\left(t \\right)} = 2 x{\\left(t \\right)} + y{\\left(t \\right)}\\right)$"
      ],
      "text/plain": [
       "⎛d                         d                       ⎞\n",
       "⎜──(x(t)) = x(t) + 2⋅y(t), ──(y(t)) = 2⋅x(t) + y(t)⎟\n",
       "⎝dt                        dt                      ⎠"
      ]
     },
     "execution_count": 3,
     "metadata": {},
     "output_type": "execute_result"
    }
   ],
   "source": [
    "ode1 = sp.Eq(x.diff(t), 1*x + 2*y)\n",
    "ode2 = sp.Eq(y.diff(t), 2*x + 1*y)\n",
    "\n",
    "(ode1, ode2)\n"
   ]
  },
  {
   "cell_type": "markdown",
   "metadata": {},
   "source": [
    "We can write the system as a matrix equation:\n",
    "\n",
    "$$\n",
    "\\frac{\\text{d}\\mathbf{x}}{\\text{d}t} = \\mathbf{A}\\mathbf{x}\n",
    "$$\n",
    "\n",
    "where \n",
    "\n",
    "\\begin{align*}\n",
    "&\\mathbf{x}(t) = \\begin{pmatrix}\n",
    "             x(t) \\\\\n",
    "             y(t) \\end{pmatrix} \\\\\n",
    "\\\\\n",
    "&\\mathbf{A} = \\begin{pmatrix}\n",
    "             1 & 2 \\\\\n",
    "             2 & 1 \\end{pmatrix}\n",
    "\\end{align*}\n",
    "\n",
    "so, in matrix form, the differential equation reads\n",
    "\n",
    "$$\n",
    "\\frac{\\text{d}}{\\text{d}t} \\begin{pmatrix}\n",
    "             x \\\\\n",
    "             y \\end{pmatrix} = \\begin{pmatrix}\n",
    "             1 & 2 \\\\\n",
    "             2 & 1 \\end{pmatrix} \\begin{pmatrix}\n",
    "             x \\\\\n",
    "             y \\end{pmatrix}\n",
    "$$\n"
   ]
  },
  {
   "cell_type": "code",
   "execution_count": 4,
   "metadata": {},
   "outputs": [
    {
     "data": {
      "text/latex": [
       "$\\displaystyle \\left[\\begin{matrix}\\frac{d}{d t} x{\\left(t \\right)}\\\\\\frac{d}{d t} y{\\left(t \\right)}\\end{matrix}\\right] = \\left[\\begin{matrix}x{\\left(t \\right)} + 2 y{\\left(t \\right)}\\\\2 x{\\left(t \\right)} + y{\\left(t \\right)}\\end{matrix}\\right]$"
      ],
      "text/plain": [
       "⎡d       ⎤                  \n",
       "⎢──(x(t))⎥                  \n",
       "⎢dt      ⎥   ⎡x(t) + 2⋅y(t)⎤\n",
       "⎢        ⎥ = ⎢             ⎥\n",
       "⎢d       ⎥   ⎣2⋅x(t) + y(t)⎦\n",
       "⎢──(y(t))⎥                  \n",
       "⎣dt      ⎦                  "
      ]
     },
     "execution_count": 4,
     "metadata": {},
     "output_type": "execute_result"
    }
   ],
   "source": [
    "A = sp.Matrix([[1, 2], \n",
    "               [2, 1]])\n",
    "\n",
    "x_vec = sp.Matrix([x, y])\n",
    "\n",
    "matrix_equation = sp.Eq(x_vec.diff(t), A * x_vec)\n",
    "matrix_equation"
   ]
  },
  {
   "cell_type": "markdown",
   "metadata": {},
   "source": [
    "The unique solution of a linear system like \n",
    "\n",
    "$$\n",
    "\\frac{\\text{d}\\mathbf{x}}{\\text{d}t} = \\mathbf{A}\\mathbf{x}\n",
    "$$\n",
    "\n",
    "is given by\n",
    "\n",
    "$$\n",
    "\\mathbf{x}(t) = e^{\\mathbf{A}t}\\mathbf{x}(0)\n",
    "$$\n",
    "\n",
    "where $e^{\\mathbf{A}t}$ is the so-called **matrix exponential** of the matrix $\\mathbf{A}t$ and $\\mathbf{x}(0)$ denotes the intial data vector:\n",
    "\n",
    "$$\n",
    "\\mathbf{x}(0) = \\begin{pmatrix}\n",
    "             x(0) \\\\\n",
    "             y(0) \\end{pmatrix}\n",
    "$$"
   ]
  },
  {
   "cell_type": "code",
   "execution_count": 10,
   "metadata": {},
   "outputs": [
    {
     "data": {
      "text/latex": [
       "$\\displaystyle \\left[\\begin{matrix}3 e^{3 t} + e^{- t}\\\\3 e^{3 t} - e^{- t}\\end{matrix}\\right]$"
      ],
      "text/plain": [
       "⎡   3⋅t    -t⎤\n",
       "⎢3⋅ℯ    + ℯ  ⎥\n",
       "⎢            ⎥\n",
       "⎢   3⋅t    -t⎥\n",
       "⎣3⋅ℯ    - ℯ  ⎦"
      ]
     },
     "execution_count": 10,
     "metadata": {},
     "output_type": "execute_result"
    }
   ],
   "source": [
    "x0 = 4\n",
    "y0 = 2\n",
    "initial_conditions = sp.Matrix([x0, y0])\n",
    "\n",
    "####### sp.exp is a huge black box which I'm just claiming gives the solution ########\n",
    "exp_At = sp.exp(A * t)\n",
    "######################################################################################\n",
    "\n",
    "solution = exp_At * initial_conditions\n",
    "solution"
   ]
  },
  {
   "cell_type": "code",
   "execution_count": 11,
   "metadata": {},
   "outputs": [
    {
     "data": {
      "text/latex": [
       "$\\displaystyle 3 e^{3 t} + e^{- t}$"
      ],
      "text/plain": [
       "   3⋅t    -t\n",
       "3⋅ℯ    + ℯ  "
      ]
     },
     "execution_count": 11,
     "metadata": {},
     "output_type": "execute_result"
    }
   ],
   "source": [
    "solution[0]"
   ]
  },
  {
   "cell_type": "code",
   "execution_count": 12,
   "metadata": {},
   "outputs": [
    {
     "data": {
      "text/latex": [
       "$\\displaystyle 3 e^{3 t} - e^{- t}$"
      ],
      "text/plain": [
       "   3⋅t    -t\n",
       "3⋅ℯ    - ℯ  "
      ]
     },
     "execution_count": 12,
     "metadata": {},
     "output_type": "execute_result"
    }
   ],
   "source": [
    "solution[1]"
   ]
  },
  {
   "cell_type": "markdown",
   "metadata": {},
   "source": [
    "So the unique functions satisfying the equation and our the initial data are:\n",
    "\n",
    "\\begin{align*}\n",
    "x(t) &= 3e^{3t}+e^{-t}\\\\\n",
    "y(t) &= 3e^{3t}-e^{-t}\n",
    "\\end{align*}"
   ]
  },
  {
   "cell_type": "markdown",
   "metadata": {},
   "source": [
    "### Remark:\n",
    "\n",
    "We could've just used `sympy.dsolve`...."
   ]
  },
  {
   "cell_type": "code",
   "execution_count": 6,
   "metadata": {},
   "outputs": [
    {
     "data": {
      "text/latex": [
       "$\\displaystyle \\left[ x{\\left(t \\right)} = - C_{1} e^{- t} + C_{2} e^{3 t}, \\  y{\\left(t \\right)} = C_{1} e^{- t} + C_{2} e^{3 t}\\right]$"
      ],
      "text/plain": [
       "⎡             -t       3⋅t             -t       3⋅t⎤\n",
       "⎣x(t) = - C₁⋅ℯ   + C₂⋅ℯ   , y(t) = C₁⋅ℯ   + C₂⋅ℯ   ⎦"
      ]
     },
     "execution_count": 6,
     "metadata": {},
     "output_type": "execute_result"
    }
   ],
   "source": [
    "from sympy import dsolve\n",
    "\n",
    "ode1 = sp.Eq(x.diff(t), 1*x + 2*y)\n",
    "ode2 = sp.Eq(y.diff(t), 2*x + 1*y)\n",
    "\n",
    "sp.dsolve((ode1, ode2))"
   ]
  },
  {
   "cell_type": "markdown",
   "metadata": {},
   "source": [
    "Initial conditions: $x(0) = 4$ and $y(0)=2$"
   ]
  },
  {
   "cell_type": "code",
   "execution_count": 7,
   "metadata": {},
   "outputs": [
    {
     "data": {
      "text/latex": [
       "$\\displaystyle \\left[ x{\\left(t \\right)} = 3 e^{3 t} + e^{- t}, \\  y{\\left(t \\right)} = 3 e^{3 t} - e^{- t}\\right]$"
      ],
      "text/plain": [
       "⎡          3⋅t    -t            3⋅t    -t⎤\n",
       "⎣x(t) = 3⋅ℯ    + ℯ  , y(t) = 3⋅ℯ    - ℯ  ⎦"
      ]
     },
     "execution_count": 7,
     "metadata": {},
     "output_type": "execute_result"
    }
   ],
   "source": [
    "solution = sp.dsolve(\n",
    "    (ode1, ode2),\n",
    "    ics={x.subs(t, 0): 4, y.subs(t, 0): 2}\n",
    ")\n",
    "\n",
    "solution"
   ]
  },
  {
   "cell_type": "code",
   "execution_count": 8,
   "metadata": {},
   "outputs": [
    {
     "data": {
      "text/latex": [
       "$\\displaystyle x{\\left(t \\right)} = 3 e^{3 t} + e^{- t}$"
      ],
      "text/plain": [
       "          3⋅t    -t\n",
       "x(t) = 3⋅ℯ    + ℯ  "
      ]
     },
     "execution_count": 8,
     "metadata": {},
     "output_type": "execute_result"
    }
   ],
   "source": [
    "solution[0]"
   ]
  },
  {
   "cell_type": "code",
   "execution_count": 9,
   "metadata": {},
   "outputs": [
    {
     "data": {
      "text/latex": [
       "$\\displaystyle y{\\left(t \\right)} = 3 e^{3 t} - e^{- t}$"
      ],
      "text/plain": [
       "          3⋅t    -t\n",
       "y(t) = 3⋅ℯ    - ℯ  "
      ]
     },
     "execution_count": 9,
     "metadata": {},
     "output_type": "execute_result"
    }
   ],
   "source": [
    "solution[1]"
   ]
  },
  {
   "cell_type": "markdown",
   "metadata": {},
   "source": [
    "## Exercise:\n",
    "\n",
    "Use SymPy to implement the matrix exponential to find the solution of the system\n",
    "\n",
    "\\begin{align*}\n",
    "x' &= x + 2y \\\\\n",
    "y' &= -x + 4y\n",
    "\\end{align*}\n",
    "\n",
    "with initial data $x(0) = 20$ and $y(0) = 16$."
   ]
  },
  {
   "cell_type": "code",
   "execution_count": 14,
   "metadata": {},
   "outputs": [],
   "source": [
    "t = sp.symbols('t')\n",
    "x = sp.Function('x')(t)\n",
    "y = sp.Function('y')(t)"
   ]
  },
  {
   "cell_type": "code",
   "execution_count": 18,
   "metadata": {},
   "outputs": [
    {
     "data": {
      "text/latex": [
       "$\\displaystyle \\frac{d}{d t} x{\\left(t \\right)} = x{\\left(t \\right)} + 2 y{\\left(t \\right)}$"
      ],
      "text/plain": [
       "d                       \n",
       "──(x(t)) = x(t) + 2⋅y(t)\n",
       "dt                      "
      ]
     },
     "execution_count": 18,
     "metadata": {},
     "output_type": "execute_result"
    }
   ],
   "source": [
    "eq1 = sp.Eq(x.diff(t),1*x + 2*y)\n",
    "eq2 = sp.Eq(y.diff(t),-1*x + 4*y)\n",
    "\n",
    "eq1"
   ]
  },
  {
   "cell_type": "code",
   "execution_count": 19,
   "metadata": {},
   "outputs": [
    {
     "data": {
      "text/latex": [
       "$\\displaystyle \\frac{d}{d t} y{\\left(t \\right)} = - x{\\left(t \\right)} + 4 y{\\left(t \\right)}$"
      ],
      "text/plain": [
       "d                        \n",
       "──(y(t)) = -x(t) + 4⋅y(t)\n",
       "dt                       "
      ]
     },
     "execution_count": 19,
     "metadata": {},
     "output_type": "execute_result"
    }
   ],
   "source": [
    "eq2"
   ]
  },
  {
   "cell_type": "code",
   "execution_count": 20,
   "metadata": {},
   "outputs": [
    {
     "data": {
      "text/latex": [
       "$\\displaystyle \\left[\\begin{matrix}\\frac{d}{d t} x{\\left(t \\right)}\\\\\\frac{d}{d t} y{\\left(t \\right)}\\end{matrix}\\right] = \\left[\\begin{matrix}x{\\left(t \\right)} + 2 y{\\left(t \\right)}\\\\- x{\\left(t \\right)} + 4 y{\\left(t \\right)}\\end{matrix}\\right]$"
      ],
      "text/plain": [
       "⎡d       ⎤                   \n",
       "⎢──(x(t))⎥                   \n",
       "⎢dt      ⎥   ⎡x(t) + 2⋅y(t) ⎤\n",
       "⎢        ⎥ = ⎢              ⎥\n",
       "⎢d       ⎥   ⎣-x(t) + 4⋅y(t)⎦\n",
       "⎢──(y(t))⎥                   \n",
       "⎣dt      ⎦                   "
      ]
     },
     "execution_count": 20,
     "metadata": {},
     "output_type": "execute_result"
    }
   ],
   "source": [
    "Matrix_A = sp.Matrix([[1,2],\n",
    "                      [-1,4]])\n",
    "\n",
    "Vector_x = sp.Matrix([x,y])\n",
    "\n",
    "LinAlg_Eq = sp.Eq(Vector_x.diff(t), Matrix_A * Vector_x)\n",
    "LinAlg_Eq"
   ]
  },
  {
   "cell_type": "code",
   "execution_count": 21,
   "metadata": {},
   "outputs": [],
   "source": [
    "x_0 = 20\n",
    "\n",
    "y_0 = 16\n",
    "\n",
    "init_cond = sp.Matrix([x_0,y_0])"
   ]
  },
  {
   "cell_type": "code",
   "execution_count": 23,
   "metadata": {},
   "outputs": [
    {
     "data": {
      "text/latex": [
       "$\\displaystyle \\left[\\begin{matrix}12 e^{3 t} + 8 e^{2 t}\\\\12 e^{3 t} + 4 e^{2 t}\\end{matrix}\\right]$"
      ],
      "text/plain": [
       "⎡    3⋅t      2⋅t⎤\n",
       "⎢12⋅ℯ    + 8⋅ℯ   ⎥\n",
       "⎢                ⎥\n",
       "⎢    3⋅t      2⋅t⎥\n",
       "⎣12⋅ℯ    + 4⋅ℯ   ⎦"
      ]
     },
     "execution_count": 23,
     "metadata": {},
     "output_type": "execute_result"
    }
   ],
   "source": [
    "e_At = sp.exp(Matrix_A * t)\n",
    "\n",
    "eq_solution = e_At * init_cond\n",
    "\n",
    "eq_solution"
   ]
  },
  {
   "cell_type": "code",
   "execution_count": 24,
   "metadata": {},
   "outputs": [
    {
     "data": {
      "text/latex": [
       "$\\displaystyle 12 e^{3 t} + 8 e^{2 t}$"
      ],
      "text/plain": [
       "    3⋅t      2⋅t\n",
       "12⋅ℯ    + 8⋅ℯ   "
      ]
     },
     "execution_count": 24,
     "metadata": {},
     "output_type": "execute_result"
    }
   ],
   "source": [
    "eq_solution[0]"
   ]
  },
  {
   "cell_type": "code",
   "execution_count": 25,
   "metadata": {},
   "outputs": [
    {
     "data": {
      "text/latex": [
       "$\\displaystyle 12 e^{3 t} + 4 e^{2 t}$"
      ],
      "text/plain": [
       "    3⋅t      2⋅t\n",
       "12⋅ℯ    + 4⋅ℯ   "
      ]
     },
     "execution_count": 25,
     "metadata": {},
     "output_type": "execute_result"
    }
   ],
   "source": [
    "eq_solution[1]"
   ]
  },
  {
   "cell_type": "markdown",
   "metadata": {},
   "source": [
    "### Firstly, checking that these functions do solve the original equations\n",
    "\n",
    "(The code equivalent of plugging it in at the end to check)"
   ]
  },
  {
   "cell_type": "markdown",
   "metadata": {},
   "source": [
    "The original system was:\n",
    "\n",
    "\\begin{align*}\n",
    "x' &= x + 2y \\\\\n",
    "y' &= -x + 4y\n",
    "\\end{align*}\n",
    "\n",
    "with initial data $x(0) = 20$ and $y(0) = 16$.\n",
    "\n",
    "\n",
    "I can move everything to the left hand side of the equations to write the system as:\n",
    "\n",
    "\\begin{align*}\n",
    "x' -x -2y &= 0 \\\\\n",
    "y' + x - 4y &= 0\n",
    "\\end{align*}"
   ]
  },
  {
   "cell_type": "code",
   "execution_count": 32,
   "metadata": {},
   "outputs": [
    {
     "data": {
      "text/latex": [
       "$\\displaystyle 12 e^{3 t} + 8 e^{2 t}$"
      ],
      "text/plain": [
       "    3⋅t      2⋅t\n",
       "12⋅ℯ    + 8⋅ℯ   "
      ]
     },
     "execution_count": 32,
     "metadata": {},
     "output_type": "execute_result"
    }
   ],
   "source": [
    "x = eq_solution[0]\n",
    "y = eq_solution[1]\n",
    "\n",
    "x"
   ]
  },
  {
   "cell_type": "code",
   "execution_count": 33,
   "metadata": {},
   "outputs": [
    {
     "data": {
      "text/latex": [
       "$\\displaystyle 12 e^{3 t} + 4 e^{2 t}$"
      ],
      "text/plain": [
       "    3⋅t      2⋅t\n",
       "12⋅ℯ    + 4⋅ℯ   "
      ]
     },
     "execution_count": 33,
     "metadata": {},
     "output_type": "execute_result"
    }
   ],
   "source": [
    "y"
   ]
  },
  {
   "cell_type": "code",
   "execution_count": 28,
   "metadata": {},
   "outputs": [
    {
     "data": {
      "text/latex": [
       "$\\displaystyle 20$"
      ],
      "text/plain": [
       "20"
      ]
     },
     "execution_count": 28,
     "metadata": {},
     "output_type": "execute_result"
    }
   ],
   "source": [
    "# Check if these functions x(t), y(t) satisfy the initial conditions:\n",
    "\n",
    "x.subs('t',0)"
   ]
  },
  {
   "cell_type": "code",
   "execution_count": 29,
   "metadata": {},
   "outputs": [
    {
     "data": {
      "text/latex": [
       "$\\displaystyle 16$"
      ],
      "text/plain": [
       "16"
      ]
     },
     "execution_count": 29,
     "metadata": {},
     "output_type": "execute_result"
    }
   ],
   "source": [
    "y.subs('t',0)"
   ]
  },
  {
   "cell_type": "code",
   "execution_count": 30,
   "metadata": {},
   "outputs": [
    {
     "data": {
      "text/latex": [
       "$\\displaystyle 0$"
      ],
      "text/plain": [
       "0"
      ]
     },
     "execution_count": 30,
     "metadata": {},
     "output_type": "execute_result"
    }
   ],
   "source": [
    "# Now check that the solution x(t) satisfies the equation x' - x - 2y = 0\n",
    "\n",
    "x.diff(t) - x - 2*y"
   ]
  },
  {
   "cell_type": "code",
   "execution_count": 31,
   "metadata": {},
   "outputs": [
    {
     "data": {
      "text/latex": [
       "$\\displaystyle 0$"
      ],
      "text/plain": [
       "0"
      ]
     },
     "execution_count": 31,
     "metadata": {},
     "output_type": "execute_result"
    }
   ],
   "source": [
    "# Now check that solution y(t) satisfies the equation y' + x - 4y = 0\n",
    "\n",
    "y.diff(t) + 1*x - 4*y"
   ]
  },
  {
   "cell_type": "markdown",
   "metadata": {},
   "source": [
    "Success!!!\n",
    "\n",
    "We've verified that your $x(t)$ and $y(t)$ indeed are solutions of the original equations"
   ]
  },
  {
   "cell_type": "markdown",
   "metadata": {},
   "source": [
    "### Try solving the system again using `sympy.dsolve`\n",
    "\n",
    "This is the more practical method\n",
    "\n",
    "Remember the system is \n",
    "\n",
    "\\begin{align*}\n",
    "x' &= x + 2y \\\\\n",
    "y' &= -x + 4y\n",
    "\\end{align*}\n",
    "\n",
    "with initial data $x(0) = 20$ and $y(0) = 16$."
   ]
  },
  {
   "cell_type": "code",
   "execution_count": 37,
   "metadata": {},
   "outputs": [
    {
     "data": {
      "text/latex": [
       "$\\displaystyle \\left[ x{\\left(t \\right)} = 12 e^{3 t} + 8 e^{2 t}, \\  y{\\left(t \\right)} = 12 e^{3 t} + 4 e^{2 t}\\right]$"
      ],
      "text/plain": [
       "⎡           3⋅t      2⋅t             3⋅t      2⋅t⎤\n",
       "⎣x(t) = 12⋅ℯ    + 8⋅ℯ   , y(t) = 12⋅ℯ    + 4⋅ℯ   ⎦"
      ]
     },
     "execution_count": 37,
     "metadata": {},
     "output_type": "execute_result"
    }
   ],
   "source": [
    "x = sp.Function('x')(t)\n",
    "y = sp.Function('y')(t)\n",
    "\n",
    "d_solve_solution = sp.dsolve(\n",
    "    (eq1, eq2),\n",
    "    ics = {x.subs(t,0): 20, y.subs(t,0): 16}\n",
    "    )\n",
    "\n",
    "d_solve_solution"
   ]
  },
  {
   "cell_type": "markdown",
   "metadata": {},
   "source": [
    "="
   ]
  }
 ],
 "metadata": {
  "kernelspec": {
   "display_name": "Python 3",
   "language": "python",
   "name": "python3"
  },
  "language_info": {
   "codemirror_mode": {
    "name": "ipython",
    "version": 3
   },
   "file_extension": ".py",
   "mimetype": "text/x-python",
   "name": "python",
   "nbconvert_exporter": "python",
   "pygments_lexer": "ipython3",
   "version": "3.12.7"
  }
 },
 "nbformat": 4,
 "nbformat_minor": 2
}

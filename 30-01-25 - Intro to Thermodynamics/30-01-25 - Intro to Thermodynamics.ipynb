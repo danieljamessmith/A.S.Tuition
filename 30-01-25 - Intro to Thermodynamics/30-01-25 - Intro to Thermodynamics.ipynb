{
 "cells": [
  {
   "cell_type": "markdown",
   "metadata": {},
   "source": [
    "## 1. Zeroth Law of Thermodynamics\n",
    "\n",
    "**Statement:**  \n",
    "If two thermodynamic systems are each in thermal equilibrium with a third one, then they are in thermal equilibrium with each other.\n",
    "\n",
    "**Interpretation:**  \n",
    "This law essentially defines *temperature* as a measurable and transitive property. If \n",
    "$$\n",
    "T_A = T_C\n",
    "$$ \n",
    "and\n",
    "$$\n",
    "T_B = T_C\n",
    "$$ \n",
    "then\n",
    "$$\n",
    "T_A = T_B\n",
    "$$\n",
    "\n",
    "While there’s no major formula here to *compute*, we can demonstrate a simple example with Python to illustrate \"checking\" temperature equality.\n"
   ]
  },
  {
   "cell_type": "code",
   "execution_count": 1,
   "metadata": {},
   "outputs": [
    {
     "name": "stdout",
     "output_type": "stream",
     "text": [
      "Are A and C in thermal equilibrium? True\n",
      "Are B and C in thermal equilibrium? False\n",
      "=> A and B are NOT in thermal equilibrium.\n"
     ]
    }
   ],
   "source": [
    "# Example: \n",
    "# Checking temperatures (Zeroth Law demonstration)\n",
    "T_systemA = 300  # Temperature in Kelvin\n",
    "T_systemB = 295\n",
    "T_systemC = 300\n",
    "\n",
    "# Check if systemA and systemC are in thermal equilibrium\n",
    "A_C_equilibrium = (T_systemA == T_systemC)\n",
    "\n",
    "# Check if systemB and systemC are in thermal equilibrium\n",
    "B_C_equilibrium = (T_systemB == T_systemC)\n",
    "\n",
    "# If both are true, then A and B should also be in equilibrium\n",
    "# But let's see the result:\n",
    "print(\"Are A and C in thermal equilibrium?\", A_C_equilibrium)\n",
    "print(\"Are B and C in thermal equilibrium?\", B_C_equilibrium)\n",
    "\n",
    "if A_C_equilibrium and B_C_equilibrium:\n",
    "    print(\"=> A and B are also in thermal equilibrium.\")\n",
    "else:\n",
    "    print(\"=> A and B are NOT in thermal equilibrium.\")\n"
   ]
  },
  {
   "cell_type": "code",
   "execution_count": 3,
   "metadata": {},
   "outputs": [
    {
     "name": "stdout",
     "output_type": "stream",
     "text": [
      "Are A and C in thermal equilibrium? True\n",
      "Are B and C in thermal equilibrium? False\n",
      "=> A and B are NOT in thermal equilibrium.\n"
     ]
    }
   ],
   "source": [
    "# Exercise: \n",
    "# Make A, B, and C all in thermal equilibrium\n",
    "\n",
    "## MODIFY CODE HERE ##\n",
    "T_systemA = 300  # Change as needed\n",
    "T_systemB = 295  # Change as needed\n",
    "T_systemC = 300  # Change as needed\n",
    "######################\n",
    "\n",
    "A_C_equilibrium = (T_systemA == T_systemC)\n",
    "B_C_equilibrium = (T_systemB == T_systemC)\n",
    "\n",
    "print(\"Are A and C in thermal equilibrium?\", A_C_equilibrium)\n",
    "print(\"Are B and C in thermal equilibrium?\", B_C_equilibrium)\n",
    "\n",
    "if A_C_equilibrium and B_C_equilibrium:\n",
    "    print(\"=> A and B are also in thermal equilibrium.\")\n",
    "else:\n",
    "    print(\"=> A and B are NOT in thermal equilibrium.\")\n"
   ]
  },
  {
   "cell_type": "markdown",
   "metadata": {},
   "source": [
    "## 2. First Law of Thermodynamics\n",
    "\n",
    "**Statement:**  \n",
    "The change in internal energy $\\Delta U$ of a closed system is equal to the heat $Q$ supplied to the system *minus* the work $W$ done by the system:\n",
    "\n",
    "$$\n",
    "\\Delta U = Q - W\n",
    "$$\n",
    "\n",
    "where:\n",
    "- $U$ is the internal energy (a state function),\n",
    "- $Q$ is the heat added to the system,\n",
    "- $W$ is the work done by the system on the surroundings.\n",
    "\n",
    "Alternatively, many texts write $ \\Delta U = Q + W$ if $W$ is the work done *on* the system, so be mindful of sign conventions. In this example, we will stick to $\\Delta U = Q - W$ (work done *by* the system is subtracted).\n",
    "\n",
    "### 2.1 Example\n",
    "\n",
    "Let's do a simple calculation. Suppose we have:\n",
    "- Heat added to the system, $Q = 500\\,\\text{J}$.\n",
    "- Work done by the system, $W = 200\\,\\text{J}$.\n",
    "\n",
    "Then $\\Delta U = 500 - 200 = 300\\,\\text{J}$.\n"
   ]
  },
  {
   "cell_type": "code",
   "execution_count": 4,
   "metadata": {},
   "outputs": [
    {
     "name": "stdout",
     "output_type": "stream",
     "text": [
      "Change in internal energy (ΔU) = 300.0 J\n"
     ]
    }
   ],
   "source": [
    "# Example: First Law (Delta U = Q - W)\n",
    "Q = 500.0  # J (heat added to the system)\n",
    "W = 200.0  # J (work done BY the system)\n",
    "\n",
    "delta_U = Q - W\n",
    "print(\"Change in internal energy (ΔU) =\", delta_U, \"J\")"
   ]
  },
  {
   "cell_type": "code",
   "execution_count": null,
   "metadata": {},
   "outputs": [],
   "source": []
  }
 ],
 "metadata": {
  "kernelspec": {
   "display_name": "Python 3",
   "language": "python",
   "name": "python3"
  },
  "language_info": {
   "codemirror_mode": {
    "name": "ipython",
    "version": 3
   },
   "file_extension": ".py",
   "mimetype": "text/x-python",
   "name": "python",
   "nbconvert_exporter": "python",
   "pygments_lexer": "ipython3",
   "version": "3.13.0"
  }
 },
 "nbformat": 4,
 "nbformat_minor": 2
}

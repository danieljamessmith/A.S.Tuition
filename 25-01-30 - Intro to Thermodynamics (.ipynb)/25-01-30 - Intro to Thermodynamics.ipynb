{
 "cells": [
  {
   "cell_type": "code",
   "execution_count": 2,
   "metadata": {},
   "outputs": [],
   "source": [
    "import numpy as np"
   ]
  },
  {
   "cell_type": "markdown",
   "metadata": {},
   "source": [
    "## 1. Zeroth Law of Thermodynamics\n",
    "\n",
    "**Statement:**  \n",
    "If two thermodynamic systems are each in thermal equilibrium with a third one, then they are in thermal equilibrium with each other.\n",
    "\n",
    "**Interpretation:**  \n",
    "This law essentially defines *temperature* as a measurable and transitive property. If \n",
    "$$\n",
    "T_A = T_C\n",
    "$$ \n",
    "and\n",
    "$$\n",
    "T_B = T_C\n",
    "$$ \n",
    "then\n",
    "$$\n",
    "T_A = T_B\n",
    "$$\n",
    "\n",
    "While there’s no major formula here to *compute*, we can demonstrate a simple example with Python to illustrate \"checking\" temperature equality.\n"
   ]
  },
  {
   "cell_type": "code",
   "execution_count": 1,
   "metadata": {},
   "outputs": [
    {
     "name": "stdout",
     "output_type": "stream",
     "text": [
      "Are A and C in thermal equilibrium? True\n",
      "Are B and C in thermal equilibrium? False\n",
      "=> A and B are NOT in thermal equilibrium.\n"
     ]
    }
   ],
   "source": [
    "# Example: \n",
    "# Checking temperatures (Zeroth Law demonstration)\n",
    "T_systemA = 300  # Temperature in Kelvin\n",
    "T_systemB = 295\n",
    "T_systemC = 300\n",
    "\n",
    "# Check if systemA and systemC are in thermal equilibrium\n",
    "A_C_equilibrium = (T_systemA == T_systemC)\n",
    "\n",
    "# Check if systemB and systemC are in thermal equilibrium\n",
    "B_C_equilibrium = (T_systemB == T_systemC)\n",
    "\n",
    "# If both are true, then A and B should also be in equilibrium\n",
    "# But let's see the result:\n",
    "print(\"Are A and C in thermal equilibrium?\", A_C_equilibrium)\n",
    "print(\"Are B and C in thermal equilibrium?\", B_C_equilibrium)\n",
    "\n",
    "if A_C_equilibrium and B_C_equilibrium:\n",
    "    print(\"=> A and B are also in thermal equilibrium.\")\n",
    "else:\n",
    "    print(\"=> A and B are NOT in thermal equilibrium.\")\n"
   ]
  },
  {
   "cell_type": "code",
   "execution_count": 5,
   "metadata": {},
   "outputs": [
    {
     "name": "stdout",
     "output_type": "stream",
     "text": [
      "Are A and C in thermal equilibrium? True\n",
      "Are B and C in thermal equilibrium? True\n",
      "=> A and B are also in thermal equilibrium.\n"
     ]
    }
   ],
   "source": [
    "# Exercise: \n",
    "# Make A, B, and C all in thermal equilibrium\n",
    "\n",
    "## MODIFY CODE HERE ##\n",
    "\n",
    "T_systemA = 300  # Change as needed\n",
    "T_systemB = 300  # Change as needed\n",
    "T_systemC = 300  # Change as needed\n",
    "\n",
    "A_C_equilibrium = (T_systemA == T_systemC)\n",
    "B_C_equilibrium = (T_systemB == T_systemC)\n",
    "\n",
    "######################\n",
    "\n",
    "print(\"Are A and C in thermal equilibrium?\", A_C_equilibrium)\n",
    "print(\"Are B and C in thermal equilibrium?\", B_C_equilibrium)\n",
    "\n",
    "if A_C_equilibrium and B_C_equilibrium:\n",
    "    print(\"=> A and B are also in thermal equilibrium.\")\n",
    "else:\n",
    "    print(\"=> A and B are NOT in thermal equilibrium.\")\n"
   ]
  },
  {
   "cell_type": "markdown",
   "metadata": {},
   "source": [
    "## 2. First Law of Thermodynamics\n",
    "\n",
    "**Statement:**  \n",
    "The change in internal energy $\\Delta U$ of a closed system is equal to the heat $Q$ supplied to the system *minus* the work $W$ done by the system:\n",
    "\n",
    "$$\n",
    "\\Delta U = Q - W\n",
    "$$\n",
    "\n",
    "where:\n",
    "- $U$ is the internal energy (a state function),\n",
    "- $Q$ is the heat added to the system,\n",
    "- $W$ is the work done by the system on the surroundings.\n",
    "\n",
    "Alternatively, many texts write $ \\Delta U = Q + W$ if $W$ is the work done *on* the system, so be mindful of sign conventions. In this example, we will stick to $\\Delta U = Q - W$ (work done *by* the system is subtracted).\n",
    "\n",
    "### 2.1 Example\n",
    "\n",
    "Let's do a simple calculation. Suppose we have:\n",
    "- Heat added to the system, $Q = 500\\,\\text{J}$.\n",
    "- Work done by the system, $W = 200\\,\\text{J}$.\n",
    "\n",
    "Then $\\Delta U = 500 - 200 = 300\\,\\text{J}$.\n"
   ]
  },
  {
   "cell_type": "code",
   "execution_count": 6,
   "metadata": {},
   "outputs": [
    {
     "name": "stdout",
     "output_type": "stream",
     "text": [
      "Change in internal energy ΔU = 300.0 J\n"
     ]
    }
   ],
   "source": [
    "# Example: \n",
    "# First Law (Delta U = Q - W)\n",
    "\n",
    "Q = 500.0  # J (heat added to the system)\n",
    "W = 200.0  # J (work done BY the system)\n",
    "\n",
    "delta_U = Q - W\n",
    "\n",
    "print(\"Change in internal energy ΔU =\", delta_U, \"J\")"
   ]
  },
  {
   "cell_type": "markdown",
   "metadata": {},
   "source": [
    "### 2.2 Exercise: Calculate $\\Delta U$\n",
    "\n",
    "Suppose a system has **600 J** of heat $Q$ added to it, and it does **250 J** of work $W$ on the surroundings. In the code cell below, do the following:\n",
    "\n",
    "1. Assign the given values to `Q` and `W`.\n",
    "2. Use the formula\n",
    "\n",
    "$$\n",
    "\\Delta U = Q - W\n",
    "$$\n",
    "\n",
    "to calculate the change in internal energy.\n",
    "\n",
    "3. Print out the value of $\\Delta U$\n"
   ]
  },
  {
   "cell_type": "code",
   "execution_count": 7,
   "metadata": {},
   "outputs": [
    {
     "name": "stdout",
     "output_type": "stream",
     "text": [
      "Change in internal energy ΔU = 350 J\n"
     ]
    }
   ],
   "source": [
    "# Exercise: \n",
    "# First Law (Delta U = Q - W)\n",
    "Q = 600\n",
    "W = 250\n",
    "\n",
    "delta_U = Q - W\n",
    "\n",
    "print(\"Change in internal energy ΔU =\", delta_U, \"J\")"
   ]
  },
  {
   "cell_type": "markdown",
   "metadata": {},
   "source": [
    "## 3. The Ideal Gas Law\n",
    "\n",
    "Although not itself *one* of the Laws of Thermodynamics, the **Ideal Gas Law** is a cornerstone relationship in many thermodynamic problems:\n",
    "\n",
    "$$\n",
    "PV = nRT\n",
    "$$\n",
    "\n",
    "where:\n",
    "- $P$ is the pressure of the gas,\n",
    "- $V$ is the volume,\n",
    "- $n$ is the number of moles,\n",
    "- $R$ is the universal gas constant $\\approx 8.314\\,\\text{J}\\,\\text{mol}^{-1}\\,\\text{K}^{-1}$,\n",
    "- $T$ is the temperature in Kelvin.\n",
    "\n",
    "### 3.1 Example\n",
    "\n",
    "Given $n$, $R$, $T$, and $P$, we can compute $V$.\n",
    "Suppose:\n",
    "- $n = 1.0\\,\\text{mol}$\n",
    "- $T = 300\\,\\text{K}$\n",
    "- $P = 101325\\,\\text{Pa} = 1\\,\\text{atm}$ (approximately)\n",
    "\n",
    "Compute $V$.\n"
   ]
  },
  {
   "cell_type": "code",
   "execution_count": 8,
   "metadata": {},
   "outputs": [
    {
     "name": "stdout",
     "output_type": "stream",
     "text": [
      "Volume V = 0.02462 m^3\n"
     ]
    }
   ],
   "source": [
    "# Example: \n",
    "# Ideal Gas Law - Compute Volume\n",
    "R = 8.314  # J/(mol*K)\n",
    "n = 1.0    # moles\n",
    "T = 300.0  # K\n",
    "P = 101325.0  # Pa\n",
    "\n",
    "V = (n * R * T) / P\n",
    "print(\"Volume V =\", np.round(V,5), \"m^3\")"
   ]
  },
  {
   "cell_type": "markdown",
   "metadata": {},
   "source": [
    "### 3.2 Exercise\n",
    "\n",
    "Given an ideal gas with:\n",
    "- $n = 2.0$ moles\n",
    "- $T = 350.0 \\,\\mathrm{K}$\n",
    "- $V = 0.05 \\,\\mathrm{m}^3$,\n",
    "\n",
    "compute the pressure $P$\n"
   ]
  },
  {
   "cell_type": "code",
   "execution_count": 9,
   "metadata": {},
   "outputs": [
    {
     "name": "stdout",
     "output_type": "stream",
     "text": [
      "Pressure P = 116396.0 Pa\n"
     ]
    }
   ],
   "source": [
    "# Exercise: \n",
    "# Ideal Gas Law - Compute Pressure\n",
    "\n",
    "R = 8.314\n",
    "n = 2.0\n",
    "T = 350.0\n",
    "V = 0.05\n",
    "\n",
    "P = (n * R * T) / V\n",
    "\n",
    "print(\"Pressure P =\", round(P, 4), \"Pa\")"
   ]
  },
  {
   "cell_type": "markdown",
   "metadata": {},
   "source": [
    "### 3.3 Exercise\n",
    "\n",
    "Given an ideal gas with:\n",
    "- $n = 2.0$ moles\n",
    "- $T = 126.85  ^\\circ \\mathrm{C}$\n",
    "- $V = 10 \\,\\mathrm{L}$,\n",
    "\n",
    "compute the pressure $P$.\n",
    "\n",
    "*Note the units of the given quantities!*"
   ]
  },
  {
   "cell_type": "code",
   "execution_count": 11,
   "metadata": {},
   "outputs": [
    {
     "name": "stdout",
     "output_type": "stream",
     "text": [
      "Pressure P = 665120.0 Pa\n"
     ]
    }
   ],
   "source": [
    "# Exercise: \n",
    "# Ideal Gas Law - Compute Pressure\n",
    "\n",
    "R = 8.314\n",
    "n = 2.0\n",
    "T = 126.85 + 273.15 # deg C to Kelvin\n",
    "V = 10 / 1000 # L to m^3\n",
    "\n",
    "P = (n * R * T) / V\n",
    "\n",
    "print(\"Pressure P =\", round(P, 4), \"Pa\") "
   ]
  },
  {
   "cell_type": "markdown",
   "metadata": {},
   "source": [
    "## 4. The Second Law of Thermodynamics\n",
    "\n",
    "**Statement (informal):**  \n",
    "The total entropy of an isolated system *never decreases*; it either stays constant (reversible process) or increases (irreversible process).  \n",
    "\n",
    "In equation form for a simple reversible process:\n",
    "$$\n",
    "\\Delta S \\geq 0\n",
    "$$\n",
    "\n",
    "**A common calculation:**  \n",
    "For an **isothermal** (constant temperature) expansion or compression of an **ideal gas**, the entropy change is:\n",
    "\n",
    "$$\n",
    "\\Delta S = nR \\ln \\left(\\frac{V_2}{V_1}\\right)\n",
    "$$\n",
    "\n",
    "### 4.1 Example\n",
    "\n",
    "Suppose an ideal gas expands isothermally from \n",
    "- $V_1 = 1.0\\,\\text{L}$ to $V_2 = 2.0\\,\\text{L}$. \n",
    "\n",
    "Calculate $\\Delta S$ (in J/K) for \n",
    "- $n = 1.0$ mole, \n",
    "- $R = 8.314\\,\\text{J}\\,\\text{mol}^{-1}\\,\\text{K}^{-1}$.\n",
    "\n",
    "First, convert liters to cubic meters if you like, or we can keep them in liters as long as we’re consistent in the ratio $V_2 / V_1$. The ratio is dimensionless, so it works out.\n"
   ]
  },
  {
   "cell_type": "code",
   "execution_count": 12,
   "metadata": {},
   "outputs": [
    {
     "name": "stdout",
     "output_type": "stream",
     "text": [
      "Entropy change ΔS = 5.7628 J/K\n"
     ]
    }
   ],
   "source": [
    "n = 1.0        # moles\n",
    "R = 8.314      # J/(mol*K)\n",
    "V1 = 1.0       # L\n",
    "V2 = 2.0       # L\n",
    "\n",
    "delta_S = n * R * np.log(V2 / V1)\n",
    "\n",
    "print(f\"Entropy change ΔS = {np.round(delta_S,4)} J/K\")\n"
   ]
  },
  {
   "cell_type": "markdown",
   "metadata": {},
   "source": [
    "### 4.2 Exercise\n",
    "\n",
    "Suppose an ideal gas expands isothermally from \n",
    "- $V_1 = 2.0\\,\\text{L}$ to $V_2 = 5.0\\,\\text{L}$. \n",
    "\n",
    "Calculate $\\Delta S$ (in J/K) for \n",
    "- $n = 3.5$ moles, \n",
    "- $R = 8.314\\,\\text{J}\\,\\text{mol}^{-1}\\,\\text{K}^{-1}$.\n"
   ]
  },
  {
   "cell_type": "code",
   "execution_count": 13,
   "metadata": {},
   "outputs": [
    {
     "name": "stdout",
     "output_type": "stream",
     "text": [
      "Entropy change ΔS = 26.6631 J/K\n"
     ]
    }
   ],
   "source": [
    "import numpy as np\n",
    "\n",
    "n = 3.5\n",
    "R = 8.314\n",
    "V1 = 2.0 / 1000.0\n",
    "V2 = 5.0 / 1000.0\n",
    "\n",
    "delta_S = n * R * np.log(V2/V1)\n",
    "\n",
    "print(f\"Entropy change ΔS = {np.round(delta_S,4)} J/K\")"
   ]
  },
  {
   "cell_type": "markdown",
   "metadata": {},
   "source": [
    "### 4.3 Exercise\n",
    "\n",
    "Suppose an ideal gas expands isothermally from \n",
    "- $V_1 = 2.0\\,\\text{m}^3$ to an unknown volume $V_2$\n",
    "\n",
    "Calculate the final volume $V_2$ (in $\\textrm{m}^3$) if \n",
    "- $\\Delta S = 10 \\,\\text{J}\\,\\text{K}^{-1}$\n",
    "- $n = 1$ mole, \n",
    "- $R = 8.314\\,\\text{J}\\,\\text{mol}^{-1}\\,\\text{K}^{-1}$.\n"
   ]
  },
  {
   "cell_type": "code",
   "execution_count": 17,
   "metadata": {},
   "outputs": [
    {
     "name": "stdout",
     "output_type": "stream",
     "text": [
      "Final Volume V2 = 6.6588 m^3\n"
     ]
    }
   ],
   "source": [
    "n = 1.0\n",
    "R = 8.314\n",
    "delta_S = 10\n",
    "V1 = 2.0\n",
    "\n",
    "V2 = V1 * np.exp(delta_S/(n*R))\n",
    "\n",
    "\n",
    "print(f\"Final Volume V2 = {np.round(V2,4)} m^3\")"
   ]
  },
  {
   "cell_type": "markdown",
   "metadata": {},
   "source": []
  },
  {
   "cell_type": "markdown",
   "metadata": {},
   "source": [
    "----\n",
    "\n",
    "*Logarithm Rule*\n",
    "\n",
    "$$\n",
    "\\log \\left( \\frac{A}{B} \\right) = \\log A - \\log B\n",
    "$$\n",
    "\n",
    "\n",
    "**Definition of log base b:**\n",
    "\n",
    "$a = b^c$ $\\iff$ $c = \\log_b (a) $\n",
    "\n",
    "----"
   ]
  },
  {
   "cell_type": "markdown",
   "metadata": {},
   "source": [
    "$$\n",
    "\\Delta S = nR \\ln \\left( \\frac{V_2}{V_1} \\right) \n",
    "$$"
   ]
  },
  {
   "cell_type": "markdown",
   "metadata": {},
   "source": [
    "$$  \\Delta S = nR (\\ln V_2 - \\ln V_1)  $$"
   ]
  },
  {
   "cell_type": "markdown",
   "metadata": {},
   "source": [
    "$$ \\frac{\\Delta S}{nR} = \\ln \\left( \\frac{V_2}{V_1} \\right) $$ "
   ]
  },
  {
   "cell_type": "markdown",
   "metadata": {},
   "source": [
    "---\n",
    "\n",
    "**Definition of log base b:**\n",
    "\n",
    "$a = b^c$ $\\iff$ $c = \\log_b (a) $\n",
    "\n",
    "---"
   ]
  },
  {
   "cell_type": "markdown",
   "metadata": {},
   "source": [
    "$b = e$, \n",
    "\n",
    "$a = \\frac{V_2}{V_1}$, \n",
    "\n",
    "$c = \\frac{\\Delta S}{nR}$"
   ]
  },
  {
   "cell_type": "markdown",
   "metadata": {},
   "source": [
    "$$ \\frac{\\Delta S}{nR} = \\ln(\\frac{V_2}{V_1}) $$"
   ]
  },
  {
   "cell_type": "markdown",
   "metadata": {},
   "source": [
    "$$ \\frac{V_2}{V_1} = e^\\frac{\\Delta S}{nR} $$"
   ]
  },
  {
   "cell_type": "markdown",
   "metadata": {},
   "source": []
  }
 ],
 "metadata": {
  "kernelspec": {
   "display_name": "Python 3",
   "language": "python",
   "name": "python3"
  },
  "language_info": {
   "codemirror_mode": {
    "name": "ipython",
    "version": 3
   },
   "file_extension": ".py",
   "mimetype": "text/x-python",
   "name": "python",
   "nbconvert_exporter": "python",
   "pygments_lexer": "ipython3",
   "version": "3.12.8"
  }
 },
 "nbformat": 4,
 "nbformat_minor": 2
}
